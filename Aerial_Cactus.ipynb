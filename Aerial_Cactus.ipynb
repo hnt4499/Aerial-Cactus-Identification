{
  "nbformat": 4,
  "nbformat_minor": 0,
  "metadata": {
    "colab": {
      "name": "Aerial Cactus.ipynb",
      "version": "0.3.2",
      "provenance": [],
      "collapsed_sections": [
        "-3szcxErlFSC"
      ],
      "include_colab_link": true
    },
    "kernelspec": {
      "name": "python3",
      "display_name": "Python 3"
    },
    "accelerator": "GPU"
  },
  "cells": [
    {
      "cell_type": "markdown",
      "metadata": {
        "id": "view-in-github",
        "colab_type": "text"
      },
      "source": [
        "<a href=\"https://colab.research.google.com/github/hnt4499/Aerial-Cactus-Identification/blob/master/Aerial_Cactus.ipynb\" target=\"_parent\"><img src=\"https://colab.research.google.com/assets/colab-badge.svg\" alt=\"Open In Colab\"/></a>"
      ]
    },
    {
      "metadata": {
        "id": "xpOfmqncdbCZ",
        "colab_type": "code",
        "outputId": "5b2896b1-2b7c-48a8-9dc6-9fa522931476",
        "colab": {
          "base_uri": "https://localhost:8080/",
          "height": 35
        }
      },
      "cell_type": "code",
      "source": [
        "from google.colab import drive\n",
        "drive.mount('/content/drive')"
      ],
      "execution_count": 0,
      "outputs": [
        {
          "output_type": "stream",
          "text": [
            "Drive already mounted at /content/drive; to attempt to forcibly remount, call drive.mount(\"/content/drive\", force_remount=True).\n"
          ],
          "name": "stdout"
        }
      ]
    },
    {
      "metadata": {
        "id": "NpW2Xi4Jdm0g",
        "colab_type": "code",
        "outputId": "a2e58067-000a-4ea7-c8ab-29f9bfcba132",
        "colab": {
          "base_uri": "https://localhost:8080/",
          "height": 35
        }
      },
      "cell_type": "code",
      "source": [
        "import numpy as np\n",
        "import pandas as pd\n",
        "import matplotlib.pyplot as plt\n",
        "%matplotlib inline\n",
        "\n",
        "from os import listdir\n",
        "from PIL import Image\n",
        "\n",
        "from keras.models import Sequential, Model, load_model\n",
        "from keras.layers import Conv2D, Dense, Flatten, MaxPooling2D, Activation, BatchNormalization,\\\n",
        "Add, Input, ZeroPadding2D, AveragePooling2D, GlobalMaxPooling2D, Dropout\n",
        "from keras.callbacks import ReduceLROnPlateau, ModelCheckpoint\n",
        "from keras.initializers import glorot_uniform\n",
        "from keras.preprocessing.image import ImageDataGenerator, array_to_img, img_to_array\n",
        "from keras.optimizers import Adam\n",
        "\n",
        "from sklearn.model_selection import train_test_split"
      ],
      "execution_count": 0,
      "outputs": [
        {
          "output_type": "stream",
          "text": [
            "Using TensorFlow backend.\n"
          ],
          "name": "stderr"
        }
      ]
    },
    {
      "metadata": {
        "id": "-3szcxErlFSC",
        "colab_type": "text"
      },
      "cell_type": "markdown",
      "source": [
        "# Transfrom all training and testing images into arrays and store it in csv files"
      ]
    },
    {
      "metadata": {
        "id": "4JNB2TvElON_",
        "colab_type": "code",
        "colab": {}
      },
      "cell_type": "code",
      "source": [
        "from keras.preprocessing.image import load_img, img_to_array\n",
        "from os import listdir\n",
        "import pandas as pd\n",
        "import numpy as np"
      ],
      "execution_count": 0,
      "outputs": []
    },
    {
      "metadata": {
        "id": "ZOnewXhTlOKi",
        "colab_type": "code",
        "colab": {}
      },
      "cell_type": "code",
      "source": [
        "imageList = listdir(\"/content/drive/My Drive/ML/Kaggle/5. Aerial Cactus Identification/test/\")"
      ],
      "execution_count": 0,
      "outputs": []
    },
    {
      "metadata": {
        "id": "rAfbcQowqdHy",
        "colab_type": "code",
        "colab": {}
      },
      "cell_type": "code",
      "source": [
        "cols = [\"id\"]\n",
        "for i in range(3072):\n",
        "  cols.append(i)"
      ],
      "execution_count": 0,
      "outputs": []
    },
    {
      "metadata": {
        "id": "2G9mt7IilNnW",
        "colab_type": "code",
        "colab": {}
      },
      "cell_type": "code",
      "source": [
        "X_train = pd.DataFrame(columns=cols)"
      ],
      "execution_count": 0,
      "outputs": []
    },
    {
      "metadata": {
        "id": "fQTXws26C45s",
        "colab_type": "code",
        "colab": {}
      },
      "cell_type": "code",
      "source": [
        "path = \"/content/drive/My Drive/ML/Kaggle/5. Aerial Cactus Identification/test/\""
      ],
      "execution_count": 0,
      "outputs": []
    },
    {
      "metadata": {
        "id": "Dl55A9Adm7tL",
        "colab_type": "code",
        "outputId": "77018f30-d7b8-47f7-8594-d74f7c15ad46",
        "colab": {
          "base_uri": "https://localhost:8080/",
          "height": 763
        }
      },
      "cell_type": "code",
      "source": [
        "count = 0\n",
        "X_test = []\n",
        "for i in imageList:\n",
        "  image = load_img(path + i)\n",
        "  image = img_to_array(image).reshape(1, 3072).tolist()[0]\n",
        "  image.insert(0, i)\n",
        "  X_test.append(image)\n",
        "  if (count % 100 == 0):\n",
        "    print(\"Processing image\", count)\n",
        "  count += 1\n",
        "X_test = pd.DataFrame(X_test, columns=cols)\n",
        "print(\"Done.\")"
      ],
      "execution_count": 0,
      "outputs": [
        {
          "output_type": "stream",
          "text": [
            "Processing image 0\n",
            "Processing image 100\n",
            "Processing image 200\n",
            "Processing image 300\n",
            "Processing image 400\n",
            "Processing image 500\n",
            "Processing image 600\n",
            "Processing image 700\n",
            "Processing image 800\n",
            "Processing image 900\n",
            "Processing image 1000\n",
            "Processing image 1100\n",
            "Processing image 1200\n",
            "Processing image 1300\n",
            "Processing image 1400\n",
            "Processing image 1500\n",
            "Processing image 1600\n",
            "Processing image 1700\n",
            "Processing image 1800\n",
            "Processing image 1900\n",
            "Processing image 2000\n",
            "Processing image 2100\n",
            "Processing image 2200\n",
            "Processing image 2300\n",
            "Processing image 2400\n",
            "Processing image 2500\n",
            "Processing image 2600\n",
            "Processing image 2700\n",
            "Processing image 2800\n",
            "Processing image 2900\n",
            "Processing image 3000\n",
            "Processing image 3100\n",
            "Processing image 3200\n",
            "Processing image 3300\n",
            "Processing image 3400\n",
            "Processing image 3500\n",
            "Processing image 3600\n",
            "Processing image 3700\n",
            "Processing image 3800\n",
            "Processing image 3900\n",
            "Done.\n"
          ],
          "name": "stdout"
        }
      ]
    },
    {
      "metadata": {
        "id": "YAi7zF0xF_ln",
        "colab_type": "code",
        "outputId": "37a3fb06-936e-456d-a12d-f524aa2fdc0a",
        "colab": {
          "base_uri": "https://localhost:8080/",
          "height": 247
        }
      },
      "cell_type": "code",
      "source": [
        "X_train.head()"
      ],
      "execution_count": 0,
      "outputs": [
        {
          "output_type": "execute_result",
          "data": {
            "text/html": [
              "<div>\n",
              "<style scoped>\n",
              "    .dataframe tbody tr th:only-of-type {\n",
              "        vertical-align: middle;\n",
              "    }\n",
              "\n",
              "    .dataframe tbody tr th {\n",
              "        vertical-align: top;\n",
              "    }\n",
              "\n",
              "    .dataframe thead th {\n",
              "        text-align: right;\n",
              "    }\n",
              "</style>\n",
              "<table border=\"1\" class=\"dataframe\">\n",
              "  <thead>\n",
              "    <tr style=\"text-align: right;\">\n",
              "      <th></th>\n",
              "      <th>id</th>\n",
              "      <th>0</th>\n",
              "      <th>1</th>\n",
              "      <th>2</th>\n",
              "      <th>3</th>\n",
              "      <th>4</th>\n",
              "      <th>5</th>\n",
              "      <th>6</th>\n",
              "      <th>7</th>\n",
              "      <th>8</th>\n",
              "      <th>...</th>\n",
              "      <th>3062</th>\n",
              "      <th>3063</th>\n",
              "      <th>3064</th>\n",
              "      <th>3065</th>\n",
              "      <th>3066</th>\n",
              "      <th>3067</th>\n",
              "      <th>3068</th>\n",
              "      <th>3069</th>\n",
              "      <th>3070</th>\n",
              "      <th>3071</th>\n",
              "    </tr>\n",
              "  </thead>\n",
              "  <tbody>\n",
              "    <tr>\n",
              "      <th>0</th>\n",
              "      <td>7b984380d518c047fd1dfa29885ad889.jpg</td>\n",
              "      <td>122.0</td>\n",
              "      <td>112.0</td>\n",
              "      <td>120.0</td>\n",
              "      <td>107.0</td>\n",
              "      <td>97.0</td>\n",
              "      <td>105.0</td>\n",
              "      <td>108.0</td>\n",
              "      <td>98.0</td>\n",
              "      <td>106.0</td>\n",
              "      <td>...</td>\n",
              "      <td>130.0</td>\n",
              "      <td>143.0</td>\n",
              "      <td>117.0</td>\n",
              "      <td>130.0</td>\n",
              "      <td>124.0</td>\n",
              "      <td>100.0</td>\n",
              "      <td>113.0</td>\n",
              "      <td>170.0</td>\n",
              "      <td>146.0</td>\n",
              "      <td>159.0</td>\n",
              "    </tr>\n",
              "    <tr>\n",
              "      <th>1</th>\n",
              "      <td>7ba26dd96d2d6a3ed0f1d3eb062048d6.jpg</td>\n",
              "      <td>153.0</td>\n",
              "      <td>132.0</td>\n",
              "      <td>147.0</td>\n",
              "      <td>143.0</td>\n",
              "      <td>122.0</td>\n",
              "      <td>137.0</td>\n",
              "      <td>163.0</td>\n",
              "      <td>140.0</td>\n",
              "      <td>158.0</td>\n",
              "      <td>...</td>\n",
              "      <td>125.0</td>\n",
              "      <td>124.0</td>\n",
              "      <td>115.0</td>\n",
              "      <td>118.0</td>\n",
              "      <td>119.0</td>\n",
              "      <td>113.0</td>\n",
              "      <td>113.0</td>\n",
              "      <td>109.0</td>\n",
              "      <td>103.0</td>\n",
              "      <td>103.0</td>\n",
              "    </tr>\n",
              "    <tr>\n",
              "      <th>2</th>\n",
              "      <td>7bc54bf1a7e9988f2b7ad70eae9200a0.jpg</td>\n",
              "      <td>181.0</td>\n",
              "      <td>153.0</td>\n",
              "      <td>167.0</td>\n",
              "      <td>195.0</td>\n",
              "      <td>167.0</td>\n",
              "      <td>181.0</td>\n",
              "      <td>176.0</td>\n",
              "      <td>148.0</td>\n",
              "      <td>162.0</td>\n",
              "      <td>...</td>\n",
              "      <td>148.0</td>\n",
              "      <td>147.0</td>\n",
              "      <td>138.0</td>\n",
              "      <td>139.0</td>\n",
              "      <td>153.0</td>\n",
              "      <td>145.0</td>\n",
              "      <td>143.0</td>\n",
              "      <td>148.0</td>\n",
              "      <td>140.0</td>\n",
              "      <td>138.0</td>\n",
              "    </tr>\n",
              "    <tr>\n",
              "      <th>3</th>\n",
              "      <td>7bdb88b4e816d3094c8b3b5b2386e436.jpg</td>\n",
              "      <td>132.0</td>\n",
              "      <td>118.0</td>\n",
              "      <td>109.0</td>\n",
              "      <td>132.0</td>\n",
              "      <td>118.0</td>\n",
              "      <td>109.0</td>\n",
              "      <td>132.0</td>\n",
              "      <td>118.0</td>\n",
              "      <td>109.0</td>\n",
              "      <td>...</td>\n",
              "      <td>106.0</td>\n",
              "      <td>135.0</td>\n",
              "      <td>121.0</td>\n",
              "      <td>112.0</td>\n",
              "      <td>137.0</td>\n",
              "      <td>123.0</td>\n",
              "      <td>114.0</td>\n",
              "      <td>123.0</td>\n",
              "      <td>109.0</td>\n",
              "      <td>100.0</td>\n",
              "    </tr>\n",
              "    <tr>\n",
              "      <th>4</th>\n",
              "      <td>7bed9596047ca6452e723a22dc1215a6.jpg</td>\n",
              "      <td>157.0</td>\n",
              "      <td>140.0</td>\n",
              "      <td>146.0</td>\n",
              "      <td>155.0</td>\n",
              "      <td>138.0</td>\n",
              "      <td>144.0</td>\n",
              "      <td>155.0</td>\n",
              "      <td>138.0</td>\n",
              "      <td>144.0</td>\n",
              "      <td>...</td>\n",
              "      <td>126.0</td>\n",
              "      <td>164.0</td>\n",
              "      <td>145.0</td>\n",
              "      <td>147.0</td>\n",
              "      <td>142.0</td>\n",
              "      <td>123.0</td>\n",
              "      <td>125.0</td>\n",
              "      <td>131.0</td>\n",
              "      <td>113.0</td>\n",
              "      <td>113.0</td>\n",
              "    </tr>\n",
              "  </tbody>\n",
              "</table>\n",
              "<p>5 rows × 3073 columns</p>\n",
              "</div>"
            ],
            "text/plain": [
              "                                     id      0      1      2      3      4  \\\n",
              "0  7b984380d518c047fd1dfa29885ad889.jpg  122.0  112.0  120.0  107.0   97.0   \n",
              "1  7ba26dd96d2d6a3ed0f1d3eb062048d6.jpg  153.0  132.0  147.0  143.0  122.0   \n",
              "2  7bc54bf1a7e9988f2b7ad70eae9200a0.jpg  181.0  153.0  167.0  195.0  167.0   \n",
              "3  7bdb88b4e816d3094c8b3b5b2386e436.jpg  132.0  118.0  109.0  132.0  118.0   \n",
              "4  7bed9596047ca6452e723a22dc1215a6.jpg  157.0  140.0  146.0  155.0  138.0   \n",
              "\n",
              "       5      6      7      8  ...     3062   3063   3064   3065   3066  \\\n",
              "0  105.0  108.0   98.0  106.0  ...    130.0  143.0  117.0  130.0  124.0   \n",
              "1  137.0  163.0  140.0  158.0  ...    125.0  124.0  115.0  118.0  119.0   \n",
              "2  181.0  176.0  148.0  162.0  ...    148.0  147.0  138.0  139.0  153.0   \n",
              "3  109.0  132.0  118.0  109.0  ...    106.0  135.0  121.0  112.0  137.0   \n",
              "4  144.0  155.0  138.0  144.0  ...    126.0  164.0  145.0  147.0  142.0   \n",
              "\n",
              "    3067   3068   3069   3070   3071  \n",
              "0  100.0  113.0  170.0  146.0  159.0  \n",
              "1  113.0  113.0  109.0  103.0  103.0  \n",
              "2  145.0  143.0  148.0  140.0  138.0  \n",
              "3  123.0  114.0  123.0  109.0  100.0  \n",
              "4  123.0  125.0  131.0  113.0  113.0  \n",
              "\n",
              "[5 rows x 3073 columns]"
            ]
          },
          "metadata": {
            "tags": []
          },
          "execution_count": 127
        }
      ]
    },
    {
      "metadata": {
        "id": "vIS9bIcdm7SH",
        "colab_type": "code",
        "colab": {}
      },
      "cell_type": "code",
      "source": [
        "X_test.sort_values(\"id\", ascending=True).to_csv(\"/content/drive/My Drive/ML/Kaggle/5. Aerial Cactus Identification/test_images.csv\", index=False)"
      ],
      "execution_count": 0,
      "outputs": []
    },
    {
      "metadata": {
        "id": "gczcBXLpS0ow",
        "colab_type": "text"
      },
      "cell_type": "markdown",
      "source": [
        "# Read input"
      ]
    },
    {
      "metadata": {
        "id": "8M58eCL6AuPB",
        "colab_type": "code",
        "colab": {}
      },
      "cell_type": "code",
      "source": [
        "train_images = pd.read_csv(\"/content/drive/My Drive/ML/Kaggle/5. Aerial Cactus Identification/train_images.csv\")"
      ],
      "execution_count": 0,
      "outputs": []
    },
    {
      "metadata": {
        "id": "swbrdju4A7KU",
        "colab_type": "code",
        "outputId": "5d533b41-c5e2-42d0-92e8-9d32bc176ac4",
        "colab": {
          "base_uri": "https://localhost:8080/",
          "height": 247
        }
      },
      "cell_type": "code",
      "source": [
        "train_images.tail()\n",
        "\n",
        "# We can see that the order of images is identical to the order of images in train.csv (which is also labels)"
      ],
      "execution_count": 0,
      "outputs": [
        {
          "output_type": "execute_result",
          "data": {
            "text/html": [
              "<div>\n",
              "<style scoped>\n",
              "    .dataframe tbody tr th:only-of-type {\n",
              "        vertical-align: middle;\n",
              "    }\n",
              "\n",
              "    .dataframe tbody tr th {\n",
              "        vertical-align: top;\n",
              "    }\n",
              "\n",
              "    .dataframe thead th {\n",
              "        text-align: right;\n",
              "    }\n",
              "</style>\n",
              "<table border=\"1\" class=\"dataframe\">\n",
              "  <thead>\n",
              "    <tr style=\"text-align: right;\">\n",
              "      <th></th>\n",
              "      <th>id</th>\n",
              "      <th>0</th>\n",
              "      <th>1</th>\n",
              "      <th>2</th>\n",
              "      <th>3</th>\n",
              "      <th>4</th>\n",
              "      <th>5</th>\n",
              "      <th>6</th>\n",
              "      <th>7</th>\n",
              "      <th>8</th>\n",
              "      <th>...</th>\n",
              "      <th>3062</th>\n",
              "      <th>3063</th>\n",
              "      <th>3064</th>\n",
              "      <th>3065</th>\n",
              "      <th>3066</th>\n",
              "      <th>3067</th>\n",
              "      <th>3068</th>\n",
              "      <th>3069</th>\n",
              "      <th>3070</th>\n",
              "      <th>3071</th>\n",
              "    </tr>\n",
              "  </thead>\n",
              "  <tbody>\n",
              "    <tr>\n",
              "      <th>17495</th>\n",
              "      <td>ffede47a74e47a5930f81c0b6896479e.jpg</td>\n",
              "      <td>154.0</td>\n",
              "      <td>144.0</td>\n",
              "      <td>143.0</td>\n",
              "      <td>154.0</td>\n",
              "      <td>144.0</td>\n",
              "      <td>143.0</td>\n",
              "      <td>154.0</td>\n",
              "      <td>144.0</td>\n",
              "      <td>143.0</td>\n",
              "      <td>...</td>\n",
              "      <td>145.0</td>\n",
              "      <td>154.0</td>\n",
              "      <td>144.0</td>\n",
              "      <td>143.0</td>\n",
              "      <td>158.0</td>\n",
              "      <td>148.0</td>\n",
              "      <td>147.0</td>\n",
              "      <td>164.0</td>\n",
              "      <td>154.0</td>\n",
              "      <td>153.0</td>\n",
              "    </tr>\n",
              "    <tr>\n",
              "      <th>17496</th>\n",
              "      <td>ffef6382a50d23251d4bc05519c91037.jpg</td>\n",
              "      <td>236.0</td>\n",
              "      <td>220.0</td>\n",
              "      <td>233.0</td>\n",
              "      <td>231.0</td>\n",
              "      <td>215.0</td>\n",
              "      <td>228.0</td>\n",
              "      <td>255.0</td>\n",
              "      <td>242.0</td>\n",
              "      <td>255.0</td>\n",
              "      <td>...</td>\n",
              "      <td>143.0</td>\n",
              "      <td>123.0</td>\n",
              "      <td>109.0</td>\n",
              "      <td>126.0</td>\n",
              "      <td>160.0</td>\n",
              "      <td>146.0</td>\n",
              "      <td>163.0</td>\n",
              "      <td>132.0</td>\n",
              "      <td>118.0</td>\n",
              "      <td>135.0</td>\n",
              "    </tr>\n",
              "    <tr>\n",
              "      <th>17497</th>\n",
              "      <td>fff059ecc91b30be5745e8b81111dc7b.jpg</td>\n",
              "      <td>100.0</td>\n",
              "      <td>91.0</td>\n",
              "      <td>96.0</td>\n",
              "      <td>132.0</td>\n",
              "      <td>123.0</td>\n",
              "      <td>128.0</td>\n",
              "      <td>221.0</td>\n",
              "      <td>212.0</td>\n",
              "      <td>217.0</td>\n",
              "      <td>...</td>\n",
              "      <td>97.0</td>\n",
              "      <td>124.0</td>\n",
              "      <td>114.0</td>\n",
              "      <td>115.0</td>\n",
              "      <td>124.0</td>\n",
              "      <td>115.0</td>\n",
              "      <td>116.0</td>\n",
              "      <td>113.0</td>\n",
              "      <td>104.0</td>\n",
              "      <td>105.0</td>\n",
              "    </tr>\n",
              "    <tr>\n",
              "      <th>17498</th>\n",
              "      <td>fff43acb3b7a23edcc4ae937be2b7522.jpg</td>\n",
              "      <td>146.0</td>\n",
              "      <td>131.0</td>\n",
              "      <td>134.0</td>\n",
              "      <td>161.0</td>\n",
              "      <td>146.0</td>\n",
              "      <td>149.0</td>\n",
              "      <td>153.0</td>\n",
              "      <td>138.0</td>\n",
              "      <td>141.0</td>\n",
              "      <td>...</td>\n",
              "      <td>128.0</td>\n",
              "      <td>143.0</td>\n",
              "      <td>128.0</td>\n",
              "      <td>131.0</td>\n",
              "      <td>160.0</td>\n",
              "      <td>145.0</td>\n",
              "      <td>148.0</td>\n",
              "      <td>145.0</td>\n",
              "      <td>130.0</td>\n",
              "      <td>133.0</td>\n",
              "    </tr>\n",
              "    <tr>\n",
              "      <th>17499</th>\n",
              "      <td>fffd9e9b990eba07c836745d8aef1a3a.jpg</td>\n",
              "      <td>176.0</td>\n",
              "      <td>148.0</td>\n",
              "      <td>163.0</td>\n",
              "      <td>149.0</td>\n",
              "      <td>121.0</td>\n",
              "      <td>136.0</td>\n",
              "      <td>154.0</td>\n",
              "      <td>126.0</td>\n",
              "      <td>141.0</td>\n",
              "      <td>...</td>\n",
              "      <td>125.0</td>\n",
              "      <td>129.0</td>\n",
              "      <td>134.0</td>\n",
              "      <td>128.0</td>\n",
              "      <td>107.0</td>\n",
              "      <td>112.0</td>\n",
              "      <td>106.0</td>\n",
              "      <td>93.0</td>\n",
              "      <td>98.0</td>\n",
              "      <td>92.0</td>\n",
              "    </tr>\n",
              "  </tbody>\n",
              "</table>\n",
              "<p>5 rows × 3073 columns</p>\n",
              "</div>"
            ],
            "text/plain": [
              "                                         id      0      1      2      3  \\\n",
              "17495  ffede47a74e47a5930f81c0b6896479e.jpg  154.0  144.0  143.0  154.0   \n",
              "17496  ffef6382a50d23251d4bc05519c91037.jpg  236.0  220.0  233.0  231.0   \n",
              "17497  fff059ecc91b30be5745e8b81111dc7b.jpg  100.0   91.0   96.0  132.0   \n",
              "17498  fff43acb3b7a23edcc4ae937be2b7522.jpg  146.0  131.0  134.0  161.0   \n",
              "17499  fffd9e9b990eba07c836745d8aef1a3a.jpg  176.0  148.0  163.0  149.0   \n",
              "\n",
              "           4      5      6      7      8  ...     3062   3063   3064   3065  \\\n",
              "17495  144.0  143.0  154.0  144.0  143.0  ...    145.0  154.0  144.0  143.0   \n",
              "17496  215.0  228.0  255.0  242.0  255.0  ...    143.0  123.0  109.0  126.0   \n",
              "17497  123.0  128.0  221.0  212.0  217.0  ...     97.0  124.0  114.0  115.0   \n",
              "17498  146.0  149.0  153.0  138.0  141.0  ...    128.0  143.0  128.0  131.0   \n",
              "17499  121.0  136.0  154.0  126.0  141.0  ...    125.0  129.0  134.0  128.0   \n",
              "\n",
              "        3066   3067   3068   3069   3070   3071  \n",
              "17495  158.0  148.0  147.0  164.0  154.0  153.0  \n",
              "17496  160.0  146.0  163.0  132.0  118.0  135.0  \n",
              "17497  124.0  115.0  116.0  113.0  104.0  105.0  \n",
              "17498  160.0  145.0  148.0  145.0  130.0  133.0  \n",
              "17499  107.0  112.0  106.0   93.0   98.0   92.0  \n",
              "\n",
              "[5 rows x 3073 columns]"
            ]
          },
          "metadata": {
            "tags": []
          },
          "execution_count": 37
        }
      ]
    },
    {
      "metadata": {
        "id": "F8JgZNePMLnq",
        "colab_type": "code",
        "colab": {}
      },
      "cell_type": "code",
      "source": [
        "X_train = train_images.iloc[:, 1:].values.reshape(-1, 32, 32, 3)"
      ],
      "execution_count": 0,
      "outputs": []
    },
    {
      "metadata": {
        "id": "1C5LizvCRrFU",
        "colab_type": "code",
        "colab": {}
      },
      "cell_type": "code",
      "source": [
        "Y_train = pd.read_csv(\"/content/drive/My Drive/ML/Kaggle/5. Aerial Cactus Identification/train.csv\")"
      ],
      "execution_count": 0,
      "outputs": []
    },
    {
      "metadata": {
        "id": "NA9EF5HETH4r",
        "colab_type": "code",
        "outputId": "e7fa3fa2-5bb0-4f87-b36f-510ce2db2d33",
        "colab": {
          "base_uri": "https://localhost:8080/",
          "height": 198
        }
      },
      "cell_type": "code",
      "source": [
        "Y_train.tail(5)"
      ],
      "execution_count": 0,
      "outputs": [
        {
          "output_type": "execute_result",
          "data": {
            "text/html": [
              "<div>\n",
              "<style scoped>\n",
              "    .dataframe tbody tr th:only-of-type {\n",
              "        vertical-align: middle;\n",
              "    }\n",
              "\n",
              "    .dataframe tbody tr th {\n",
              "        vertical-align: top;\n",
              "    }\n",
              "\n",
              "    .dataframe thead th {\n",
              "        text-align: right;\n",
              "    }\n",
              "</style>\n",
              "<table border=\"1\" class=\"dataframe\">\n",
              "  <thead>\n",
              "    <tr style=\"text-align: right;\">\n",
              "      <th></th>\n",
              "      <th>id</th>\n",
              "      <th>has_cactus</th>\n",
              "    </tr>\n",
              "  </thead>\n",
              "  <tbody>\n",
              "    <tr>\n",
              "      <th>17495</th>\n",
              "      <td>ffede47a74e47a5930f81c0b6896479e.jpg</td>\n",
              "      <td>0</td>\n",
              "    </tr>\n",
              "    <tr>\n",
              "      <th>17496</th>\n",
              "      <td>ffef6382a50d23251d4bc05519c91037.jpg</td>\n",
              "      <td>1</td>\n",
              "    </tr>\n",
              "    <tr>\n",
              "      <th>17497</th>\n",
              "      <td>fff059ecc91b30be5745e8b81111dc7b.jpg</td>\n",
              "      <td>1</td>\n",
              "    </tr>\n",
              "    <tr>\n",
              "      <th>17498</th>\n",
              "      <td>fff43acb3b7a23edcc4ae937be2b7522.jpg</td>\n",
              "      <td>0</td>\n",
              "    </tr>\n",
              "    <tr>\n",
              "      <th>17499</th>\n",
              "      <td>fffd9e9b990eba07c836745d8aef1a3a.jpg</td>\n",
              "      <td>1</td>\n",
              "    </tr>\n",
              "  </tbody>\n",
              "</table>\n",
              "</div>"
            ],
            "text/plain": [
              "                                         id  has_cactus\n",
              "17495  ffede47a74e47a5930f81c0b6896479e.jpg           0\n",
              "17496  ffef6382a50d23251d4bc05519c91037.jpg           1\n",
              "17497  fff059ecc91b30be5745e8b81111dc7b.jpg           1\n",
              "17498  fff43acb3b7a23edcc4ae937be2b7522.jpg           0\n",
              "17499  fffd9e9b990eba07c836745d8aef1a3a.jpg           1"
            ]
          },
          "metadata": {
            "tags": []
          },
          "execution_count": 40
        }
      ]
    },
    {
      "metadata": {
        "id": "dCen2GHTMoLX",
        "colab_type": "code",
        "colab": {}
      },
      "cell_type": "code",
      "source": [
        "Y_train = Y_train.sort_values(\"id\", ascending=True).has_cactus"
      ],
      "execution_count": 0,
      "outputs": []
    },
    {
      "metadata": {
        "id": "KDDx18idaauX",
        "colab_type": "code",
        "colab": {}
      },
      "cell_type": "code",
      "source": [
        "test_images = pd.read_csv(\"/content/drive/My Drive/ML/Kaggle/5. Aerial Cactus Identification/test_images.csv\")"
      ],
      "execution_count": 0,
      "outputs": []
    },
    {
      "metadata": {
        "id": "4Mp6iCW3agdb",
        "colab_type": "code",
        "outputId": "1f94d01b-ed0a-436e-c339-782ad8bfb96b",
        "colab": {
          "base_uri": "https://localhost:8080/",
          "height": 247
        }
      },
      "cell_type": "code",
      "source": [
        "test_images.head()"
      ],
      "execution_count": 0,
      "outputs": [
        {
          "output_type": "execute_result",
          "data": {
            "text/html": [
              "<div>\n",
              "<style scoped>\n",
              "    .dataframe tbody tr th:only-of-type {\n",
              "        vertical-align: middle;\n",
              "    }\n",
              "\n",
              "    .dataframe tbody tr th {\n",
              "        vertical-align: top;\n",
              "    }\n",
              "\n",
              "    .dataframe thead th {\n",
              "        text-align: right;\n",
              "    }\n",
              "</style>\n",
              "<table border=\"1\" class=\"dataframe\">\n",
              "  <thead>\n",
              "    <tr style=\"text-align: right;\">\n",
              "      <th></th>\n",
              "      <th>id</th>\n",
              "      <th>0</th>\n",
              "      <th>1</th>\n",
              "      <th>2</th>\n",
              "      <th>3</th>\n",
              "      <th>4</th>\n",
              "      <th>5</th>\n",
              "      <th>6</th>\n",
              "      <th>7</th>\n",
              "      <th>8</th>\n",
              "      <th>...</th>\n",
              "      <th>3062</th>\n",
              "      <th>3063</th>\n",
              "      <th>3064</th>\n",
              "      <th>3065</th>\n",
              "      <th>3066</th>\n",
              "      <th>3067</th>\n",
              "      <th>3068</th>\n",
              "      <th>3069</th>\n",
              "      <th>3070</th>\n",
              "      <th>3071</th>\n",
              "    </tr>\n",
              "  </thead>\n",
              "  <tbody>\n",
              "    <tr>\n",
              "      <th>0</th>\n",
              "      <td>000940378805c44108d287872b2f04ce.jpg</td>\n",
              "      <td>57.0</td>\n",
              "      <td>59.0</td>\n",
              "      <td>54.0</td>\n",
              "      <td>54.0</td>\n",
              "      <td>56.0</td>\n",
              "      <td>51.0</td>\n",
              "      <td>27.0</td>\n",
              "      <td>29.0</td>\n",
              "      <td>24.0</td>\n",
              "      <td>...</td>\n",
              "      <td>102.0</td>\n",
              "      <td>114.0</td>\n",
              "      <td>101.0</td>\n",
              "      <td>111.0</td>\n",
              "      <td>129.0</td>\n",
              "      <td>116.0</td>\n",
              "      <td>126.0</td>\n",
              "      <td>109.0</td>\n",
              "      <td>96.0</td>\n",
              "      <td>106.0</td>\n",
              "    </tr>\n",
              "    <tr>\n",
              "      <th>1</th>\n",
              "      <td>0017242f54ececa4512b4d7937d1e21e.jpg</td>\n",
              "      <td>80.0</td>\n",
              "      <td>71.0</td>\n",
              "      <td>72.0</td>\n",
              "      <td>85.0</td>\n",
              "      <td>76.0</td>\n",
              "      <td>77.0</td>\n",
              "      <td>84.0</td>\n",
              "      <td>76.0</td>\n",
              "      <td>74.0</td>\n",
              "      <td>...</td>\n",
              "      <td>66.0</td>\n",
              "      <td>117.0</td>\n",
              "      <td>101.0</td>\n",
              "      <td>111.0</td>\n",
              "      <td>59.0</td>\n",
              "      <td>43.0</td>\n",
              "      <td>53.0</td>\n",
              "      <td>65.0</td>\n",
              "      <td>49.0</td>\n",
              "      <td>59.0</td>\n",
              "    </tr>\n",
              "    <tr>\n",
              "      <th>2</th>\n",
              "      <td>001ee6d8564003107853118ab87df407.jpg</td>\n",
              "      <td>97.0</td>\n",
              "      <td>92.0</td>\n",
              "      <td>73.0</td>\n",
              "      <td>120.0</td>\n",
              "      <td>117.0</td>\n",
              "      <td>98.0</td>\n",
              "      <td>141.0</td>\n",
              "      <td>138.0</td>\n",
              "      <td>119.0</td>\n",
              "      <td>...</td>\n",
              "      <td>113.0</td>\n",
              "      <td>106.0</td>\n",
              "      <td>131.0</td>\n",
              "      <td>99.0</td>\n",
              "      <td>91.0</td>\n",
              "      <td>116.0</td>\n",
              "      <td>84.0</td>\n",
              "      <td>84.0</td>\n",
              "      <td>109.0</td>\n",
              "      <td>77.0</td>\n",
              "    </tr>\n",
              "    <tr>\n",
              "      <th>3</th>\n",
              "      <td>002e175c3c1e060769475f52182583d0.jpg</td>\n",
              "      <td>112.0</td>\n",
              "      <td>98.0</td>\n",
              "      <td>98.0</td>\n",
              "      <td>110.0</td>\n",
              "      <td>96.0</td>\n",
              "      <td>96.0</td>\n",
              "      <td>117.0</td>\n",
              "      <td>103.0</td>\n",
              "      <td>103.0</td>\n",
              "      <td>...</td>\n",
              "      <td>118.0</td>\n",
              "      <td>150.0</td>\n",
              "      <td>138.0</td>\n",
              "      <td>140.0</td>\n",
              "      <td>162.0</td>\n",
              "      <td>150.0</td>\n",
              "      <td>152.0</td>\n",
              "      <td>161.0</td>\n",
              "      <td>149.0</td>\n",
              "      <td>151.0</td>\n",
              "    </tr>\n",
              "    <tr>\n",
              "      <th>4</th>\n",
              "      <td>0036e44a7e8f7218e9bc7bf8137e4943.jpg</td>\n",
              "      <td>87.0</td>\n",
              "      <td>80.0</td>\n",
              "      <td>87.0</td>\n",
              "      <td>90.0</td>\n",
              "      <td>80.0</td>\n",
              "      <td>88.0</td>\n",
              "      <td>97.0</td>\n",
              "      <td>87.0</td>\n",
              "      <td>95.0</td>\n",
              "      <td>...</td>\n",
              "      <td>56.0</td>\n",
              "      <td>55.0</td>\n",
              "      <td>43.0</td>\n",
              "      <td>45.0</td>\n",
              "      <td>52.0</td>\n",
              "      <td>40.0</td>\n",
              "      <td>42.0</td>\n",
              "      <td>56.0</td>\n",
              "      <td>44.0</td>\n",
              "      <td>46.0</td>\n",
              "    </tr>\n",
              "  </tbody>\n",
              "</table>\n",
              "<p>5 rows × 3073 columns</p>\n",
              "</div>"
            ],
            "text/plain": [
              "                                     id      0     1     2      3      4  \\\n",
              "0  000940378805c44108d287872b2f04ce.jpg   57.0  59.0  54.0   54.0   56.0   \n",
              "1  0017242f54ececa4512b4d7937d1e21e.jpg   80.0  71.0  72.0   85.0   76.0   \n",
              "2  001ee6d8564003107853118ab87df407.jpg   97.0  92.0  73.0  120.0  117.0   \n",
              "3  002e175c3c1e060769475f52182583d0.jpg  112.0  98.0  98.0  110.0   96.0   \n",
              "4  0036e44a7e8f7218e9bc7bf8137e4943.jpg   87.0  80.0  87.0   90.0   80.0   \n",
              "\n",
              "      5      6      7      8  ...     3062   3063   3064   3065   3066   3067  \\\n",
              "0  51.0   27.0   29.0   24.0  ...    102.0  114.0  101.0  111.0  129.0  116.0   \n",
              "1  77.0   84.0   76.0   74.0  ...     66.0  117.0  101.0  111.0   59.0   43.0   \n",
              "2  98.0  141.0  138.0  119.0  ...    113.0  106.0  131.0   99.0   91.0  116.0   \n",
              "3  96.0  117.0  103.0  103.0  ...    118.0  150.0  138.0  140.0  162.0  150.0   \n",
              "4  88.0   97.0   87.0   95.0  ...     56.0   55.0   43.0   45.0   52.0   40.0   \n",
              "\n",
              "    3068   3069   3070   3071  \n",
              "0  126.0  109.0   96.0  106.0  \n",
              "1   53.0   65.0   49.0   59.0  \n",
              "2   84.0   84.0  109.0   77.0  \n",
              "3  152.0  161.0  149.0  151.0  \n",
              "4   42.0   56.0   44.0   46.0  \n",
              "\n",
              "[5 rows x 3073 columns]"
            ]
          },
          "metadata": {
            "tags": []
          },
          "execution_count": 43
        }
      ]
    },
    {
      "metadata": {
        "id": "lE0DwjcCa2sH",
        "colab_type": "code",
        "colab": {}
      },
      "cell_type": "code",
      "source": [
        "X_test = test_images.iloc[:, 1:].values.reshape(-1, 32, 32, 3)"
      ],
      "execution_count": 0,
      "outputs": []
    },
    {
      "metadata": {
        "id": "7sMDU48Pbmka",
        "colab_type": "code",
        "colab": {}
      },
      "cell_type": "code",
      "source": [
        "submission = pd.DataFrame(test_images.iloc[:, 0], columns=[\"id\"])"
      ],
      "execution_count": 0,
      "outputs": []
    },
    {
      "metadata": {
        "id": "Ff2Tf6L6uYYl",
        "colab_type": "text"
      },
      "cell_type": "markdown",
      "source": [
        "***Split Training set and Validation set***"
      ]
    },
    {
      "metadata": {
        "id": "LydfGAVeue8N",
        "colab_type": "code",
        "colab": {}
      },
      "cell_type": "code",
      "source": [
        "#X_train, X_val, Y_train, Y_val = train_test_split(X_train, Y_train, test_size=0.15, random_state=4)"
      ],
      "execution_count": 0,
      "outputs": []
    },
    {
      "metadata": {
        "id": "52nP2Wa9WxQn",
        "colab_type": "text"
      },
      "cell_type": "markdown",
      "source": [
        "***See how the classes are distributed***"
      ]
    },
    {
      "metadata": {
        "id": "RCkydKT4Ww_T",
        "colab_type": "code",
        "outputId": "65481511-454f-4538-e0b8-1ffe654ecf18",
        "colab": {
          "base_uri": "https://localhost:8080/",
          "height": 279
        }
      },
      "cell_type": "code",
      "source": [
        "Y_train.value_counts().plot.bar()"
      ],
      "execution_count": 0,
      "outputs": [
        {
          "output_type": "execute_result",
          "data": {
            "text/plain": [
              "<matplotlib.axes._subplots.AxesSubplot at 0x7f47fc5c77f0>"
            ]
          },
          "metadata": {
            "tags": []
          },
          "execution_count": 30
        },
        {
          "output_type": "display_data",
          "data": {
            "image/png": "[encoded data removed]",
            "text/plain": [
              "<Figure size 432x288 with 1 Axes>"
            ]
          },
          "metadata": {
            "tags": []
          }
        }
      ]
    },
    {
      "metadata": {
        "id": "_Se2dfm1gL_1",
        "colab_type": "text"
      },
      "cell_type": "markdown",
      "source": [
        "# Basic Parameters"
      ]
    },
    {
      "metadata": {
        "id": "xugHbBVMN3WT",
        "colab_type": "code",
        "colab": {}
      },
      "cell_type": "code",
      "source": [
        "epochs = 10\n",
        "batch_size = 64"
      ],
      "execution_count": 0,
      "outputs": []
    },
    {
      "metadata": {
        "id": "VZsB8WoARSBj",
        "colab_type": "text"
      },
      "cell_type": "markdown",
      "source": [
        "***See how our I/O works***"
      ]
    },
    {
      "metadata": {
        "id": "b40aHwGdRRv3",
        "colab_type": "code",
        "outputId": "8cb3d1d9-19c0-478c-9301-c7485aa8f562",
        "colab": {
          "base_uri": "https://localhost:8080/",
          "height": 585
        }
      },
      "cell_type": "code",
      "source": [
        "plt.figure(figsize=(8, 8))\n",
        "for i in range(0, 15):\n",
        "    plt.subplot(5, 3, i+1)\n",
        "    j = np.random.randint(0, Y_train.shape[0])\n",
        "    plt.imshow(X_train[j][:, :, 0])\n",
        "plt.tight_layout()\n",
        "plt.show()"
      ],
      "execution_count": 0,
      "outputs": [
        {
          "output_type": "display_data",
          "data": {
            "image/png": "[encoded data removed]",
            "text/plain": [
              "<Figure size 576x576 with 15 Axes>"
            ]
          },
          "metadata": {
            "tags": []
          }
        }
      ]
    },
    {
      "metadata": {
        "id": "BLoqazIBOu0r",
        "colab_type": "text"
      },
      "cell_type": "markdown",
      "source": [
        "# Use several pre-trained models to train and pick the best model"
      ]
    },
    {
      "metadata": {
        "id": "Ep8uq_w9OuVg",
        "colab_type": "code",
        "colab": {}
      },
      "cell_type": "code",
      "source": [
        "from keras.applications.xception import Xception\n",
        "from keras.applications.vgg16 import VGG16\n",
        "from keras.applications.vgg19 import VGG19\n",
        "#from keras.applications.resnet_v2 import ResNet152V2\n",
        "#from keras.applications.inception_v3 import InceptionV3\n",
        "#from keras.applications.inception_resnet_v2 import InceptionResNetV2\n",
        "from keras.applications.mobilenet_v2 import MobileNetV2\n",
        "from keras.applications.densenet import DenseNet201\n",
        "from keras.applications.nasnet import NASNetLarge"
      ],
      "execution_count": 0,
      "outputs": []
    },
    {
      "metadata": {
        "id": "bE62dRdPdg7L",
        "colab_type": "code",
        "colab": {}
      },
      "cell_type": "code",
      "source": [
        "learning_rate_reduction = ReduceLROnPlateau(monitor='val_acc', patience=3, verbose=1, \\\n",
        "                                            factor=0.7, min_lr=0.00001)"
      ],
      "execution_count": 0,
      "outputs": []
    },
    {
      "metadata": {
        "id": "4_uwgRPImpDC",
        "colab_type": "code",
        "colab": {}
      },
      "cell_type": "code",
      "source": [
        "datagen = ImageDataGenerator(rotation_range=30, width_shift_range=0.2, \n",
        "                             height_shift_range=0.2, zoom_range=0.2, \n",
        "                             horizontal_flip=True, vertical_flip=True, \n",
        "                             validation_split=0.1)"
      ],
      "execution_count": 0,
      "outputs": []
    },
    {
      "metadata": {
        "id": "qA9jY2NWrIKo",
        "colab_type": "code",
        "colab": {}
      },
      "cell_type": "code",
      "source": [
        "train_generator = datagen.flow(X_train, Y_train, batch_size=batch_size, subset='training')\n",
        "val_generator = datagen.flow(X_train, Y_train, batch_size=batch_size, subset='validation')"
      ],
      "execution_count": 0,
      "outputs": []
    },
    {
      "metadata": {
        "id": "4yce1d_MPVTa",
        "colab_type": "code",
        "colab": {}
      },
      "cell_type": "code",
      "source": [
        "def buildModel(base_model):\n",
        "  X = base_model.output\n",
        "  X = Flatten()(X)\n",
        "  X = Dense(512, activation='relu', kernel_regularizer='l2')(X)\n",
        "  X = Dense(1, activation='sigmoid')(X)\n",
        "  \n",
        "  model = Model(inputs=base_model.input, outputs=X)\n",
        "  \n",
        "  return model"
      ],
      "execution_count": 0,
      "outputs": []
    },
    {
      "metadata": {
        "id": "NSq6cjxvzn1a",
        "colab_type": "code",
        "colab": {}
      },
      "cell_type": "code",
      "source": [
        "def fitModel(model, cpoint=False):\n",
        "\n",
        "  # Freeze 80% layers\n",
        "  threshold = int(len(model.layers) * 0.8)\n",
        "  for i in model.layers[:threshold]:\n",
        "    i.trainable = False\n",
        "  for i in model.layers[threshold:]:\n",
        "    i.trainable = True\n",
        "\n",
        "  # Compile model\n",
        "  model.compile(optimizer=Adam(lr=0.0005), loss='binary_crossentropy', metrics=['accuracy'])\n",
        "\n",
        "  # Train model\n",
        "  cb = [learning_rate_reduction, checkpoint] if cpoint else [learning_rate_reduction]\n",
        "  history.append(model.fit_generator(generator=train_generator, epochs=epochs,\n",
        "                                     steps_per_epoch=int(X_train.shape[0] // batch_size * 1.5),\n",
        "                                     validation_data=val_generator, \n",
        "                                     validation_steps=int(X_train.shape[0] // batch_size * 0.4),\n",
        "                                     callbacks=cb))\n",
        "  return model"
      ],
      "execution_count": 0,
      "outputs": []
    },
    {
      "metadata": {
        "id": "WLFWxr1SgjGk",
        "colab_type": "code",
        "colab": {}
      },
      "cell_type": "code",
      "source": [
        "history = []"
      ],
      "execution_count": 0,
      "outputs": []
    },
    {
      "metadata": {
        "id": "3DhlynYxf8m6",
        "colab_type": "text"
      },
      "cell_type": "markdown",
      "source": [
        "***Xception***"
      ]
    },
    {
      "metadata": {
        "id": "VlD7E_gmc5ew",
        "colab_type": "code",
        "colab": {}
      },
      "cell_type": "code",
      "source": [
        "checkpoint = ModelCheckpoint(\"/content/drive/My Drive/ML/Kaggle/5. Aerial Cactus Identification/xception_80.h5\", \\\n",
        "                             monitor=\"val_acc\", verbose=1, save_best_only=True, mode='max')"
      ],
      "execution_count": 0,
      "outputs": []
    },
    {
      "metadata": {
        "id": "UhNJd675f_Pp",
        "colab_type": "code",
        "outputId": "955d0b38-2690-4c80-8b9b-2af332336348",
        "colab": {
          "base_uri": "https://localhost:8080/",
          "height": 854
        }
      },
      "cell_type": "code",
      "source": [
        "# Build model\n",
        "X_input = Input((32, 32, 3))\n",
        "base_model = Xception(weights=\"imagenet\", include_top=False, input_tensor=X_input)\n",
        "model = buildModel(base_model)\n",
        "\n",
        "# Train model\n",
        "fitModel(model)"
      ],
      "execution_count": 0,
      "outputs": [
        {
          "output_type": "stream",
          "text": [
            "Epoch 1/10\n",
            "409/409 [==============================] - 43s 104ms/step - loss: 0.7935 - acc: 0.9119 - val_loss: 4.1814 - val_acc: 0.7388\n",
            "\n",
            "Epoch 00001: val_acc did not improve from 0.75043\n",
            "Epoch 2/10\n",
            "409/409 [==============================] - 33s 80ms/step - loss: 0.1132 - acc: 0.9648 - val_loss: 11.2286 - val_acc: 0.2888\n",
            "\n",
            "Epoch 00002: val_acc did not improve from 0.75043\n",
            "Epoch 3/10\n",
            "409/409 [==============================] - 33s 81ms/step - loss: 0.1006 - acc: 0.9691 - val_loss: 11.0059 - val_acc: 0.2980\n",
            "\n",
            "Epoch 00003: val_acc did not improve from 0.75043\n",
            "Epoch 4/10\n",
            "409/409 [==============================] - 32s 79ms/step - loss: 0.0972 - acc: 0.9696 - val_loss: 9.3823 - val_acc: 0.3803\n",
            "\n",
            "Epoch 00004: ReduceLROnPlateau reducing learning rate to 0.00035000001662410796.\n",
            "\n",
            "Epoch 00004: val_acc did not improve from 0.75043\n",
            "Epoch 5/10\n",
            "409/409 [==============================] - 33s 80ms/step - loss: 0.0788 - acc: 0.9751 - val_loss: 7.9298 - val_acc: 0.4559\n",
            "\n",
            "Epoch 00005: val_acc did not improve from 0.75043\n",
            "Epoch 6/10\n",
            "409/409 [==============================] - 33s 80ms/step - loss: 0.0726 - acc: 0.9763 - val_loss: 4.2120 - val_acc: 0.7334\n",
            "\n",
            "Epoch 00006: val_acc did not improve from 0.75043\n",
            "Epoch 7/10\n",
            "409/409 [==============================] - 33s 80ms/step - loss: 0.0729 - acc: 0.9783 - val_loss: 4.4732 - val_acc: 0.6711\n",
            "\n",
            "Epoch 00007: ReduceLROnPlateau reducing learning rate to 0.00024500001163687554.\n",
            "\n",
            "Epoch 00007: val_acc did not improve from 0.75043\n",
            "Epoch 8/10\n",
            "409/409 [==============================] - 33s 81ms/step - loss: 0.0708 - acc: 0.9766 - val_loss: 4.2330 - val_acc: 0.7325\n",
            "\n",
            "Epoch 00008: val_acc did not improve from 0.75043\n",
            "Epoch 9/10\n",
            "409/409 [==============================] - 33s 81ms/step - loss: 0.0637 - acc: 0.9796 - val_loss: 4.1470 - val_acc: 0.7378\n",
            "\n",
            "Epoch 00009: val_acc did not improve from 0.75043\n",
            "Epoch 10/10\n",
            "409/409 [==============================] - 33s 81ms/step - loss: 0.0672 - acc: 0.9794 - val_loss: 4.2194 - val_acc: 0.7309\n",
            "\n",
            "Epoch 00010: ReduceLROnPlateau reducing learning rate to 0.00017150000203400848.\n",
            "\n",
            "Epoch 00010: val_acc did not improve from 0.75043\n"
          ],
          "name": "stdout"
        }
      ]
    },
    {
      "metadata": {
        "id": "WjnlDxvRw36s",
        "colab_type": "text"
      },
      "cell_type": "markdown",
      "source": [
        "***VGG16***"
      ]
    },
    {
      "metadata": {
        "id": "XNVvy3AUp5Yn",
        "colab_type": "code",
        "outputId": "c00be222-fb35-4b2e-ebfb-641a4ea75e63",
        "colab": {
          "base_uri": "https://localhost:8080/",
          "height": 874
        }
      },
      "cell_type": "code",
      "source": [
        "# Build model\n",
        "X_input = Input((32, 32, 3))\n",
        "base_model = VGG16(weights=\"imagenet\", include_top=False, input_tensor=X_input)\n",
        "model = buildModel(base_model)\n",
        "\n",
        "# Train model\n",
        "fitModel(model)"
      ],
      "execution_count": 0,
      "outputs": [
        {
          "output_type": "stream",
          "text": [
            "Downloading data from https://github.com/fchollet/deep-learning-models/releases/download/v0.1/vgg16_weights_tf_dim_ordering_tf_kernels_notop.h5\n",
            "58892288/58889256 [==============================] - 1s 0us/step\n",
            "Epoch 1/10\n",
            "409/409 [==============================] - 36s 89ms/step - loss: 3.2879 - acc: 0.9162 - val_loss: 3.5537 - val_acc: 0.8461\n",
            "\n",
            "Epoch 00001: val_acc improved from -inf to 0.84613, saving model to /content/drive/My Drive/ML/Kaggle/5. Aerial Cactus Identification/vgg16_80.h5\n",
            "Epoch 2/10\n",
            "409/409 [==============================] - 28s 68ms/step - loss: 2.0731 - acc: 0.9225 - val_loss: 1.5164 - val_acc: 0.9445\n",
            "\n",
            "Epoch 00002: val_acc improved from 0.84613 to 0.94448, saving model to /content/drive/My Drive/ML/Kaggle/5. Aerial Cactus Identification/vgg16_80.h5\n",
            "Epoch 3/10\n",
            "409/409 [==============================] - 29s 71ms/step - loss: 1.4330 - acc: 0.9421 - val_loss: 1.1170 - val_acc: 0.9555\n",
            "\n",
            "Epoch 00003: val_acc improved from 0.94448 to 0.95549, saving model to /content/drive/My Drive/ML/Kaggle/5. Aerial Cactus Identification/vgg16_80.h5\n",
            "Epoch 4/10\n",
            "409/409 [==============================] - 28s 69ms/step - loss: 1.3475 - acc: 0.9370 - val_loss: 1.0537 - val_acc: 0.9520\n",
            "\n",
            "Epoch 00004: val_acc did not improve from 0.95549\n",
            "Epoch 5/10\n",
            "409/409 [==============================] - 28s 69ms/step - loss: 1.4320 - acc: 0.9262 - val_loss: 1.1919 - val_acc: 0.9390\n",
            "\n",
            "Epoch 00005: val_acc did not improve from 0.95549\n",
            "Epoch 6/10\n",
            "409/409 [==============================] - 29s 70ms/step - loss: 1.0515 - acc: 0.9457 - val_loss: 0.9281 - val_acc: 0.9514\n",
            "\n",
            "Epoch 00006: ReduceLROnPlateau reducing learning rate to 0.00035000001662410796.\n",
            "\n",
            "Epoch 00006: val_acc did not improve from 0.95549\n",
            "Epoch 7/10\n",
            "409/409 [==============================] - 27s 66ms/step - loss: 0.9053 - acc: 0.9520 - val_loss: 0.8431 - val_acc: 0.9548\n",
            "\n",
            "Epoch 00007: val_acc did not improve from 0.95549\n",
            "Epoch 8/10\n",
            "409/409 [==============================] - 28s 69ms/step - loss: 0.8043 - acc: 0.9564 - val_loss: 0.8345 - val_acc: 0.9536\n",
            "\n",
            "Epoch 00008: val_acc did not improve from 0.95549\n",
            "Epoch 9/10\n",
            "409/409 [==============================] - 28s 68ms/step - loss: 0.8607 - acc: 0.9511 - val_loss: 0.8588 - val_acc: 0.9511\n",
            "\n",
            "Epoch 00009: ReduceLROnPlateau reducing learning rate to 0.00024500001163687554.\n",
            "\n",
            "Epoch 00009: val_acc did not improve from 0.95549\n",
            "Epoch 10/10\n",
            "409/409 [==============================] - 28s 68ms/step - loss: 0.8694 - acc: 0.9498 - val_loss: 0.7257 - val_acc: 0.9586\n",
            "\n",
            "Epoch 00010: val_acc improved from 0.95549 to 0.95858, saving model to /content/drive/My Drive/ML/Kaggle/5. Aerial Cactus Identification/vgg16_80.h5\n"
          ],
          "name": "stdout"
        }
      ]
    },
    {
      "metadata": {
        "id": "mC3hirHgxP82",
        "colab_type": "text"
      },
      "cell_type": "markdown",
      "source": [
        "***VGG19***"
      ]
    },
    {
      "metadata": {
        "id": "BnH1qhU9p5MI",
        "colab_type": "code",
        "outputId": "9b433854-0b29-48b6-fdb7-37f67a113662",
        "colab": {
          "base_uri": "https://localhost:8080/",
          "height": 437
        }
      },
      "cell_type": "code",
      "source": [
        "# Build model\n",
        "X_input = Input((32, 32, 3))\n",
        "base_model = VGG19(weights=\"imagenet\", include_top=False, input_tensor=X_input)\n",
        "model = buildModel(base_model)\n",
        "\n",
        "# Train model\n",
        "fitModel(model)"
      ],
      "execution_count": 0,
      "outputs": [
        {
          "output_type": "stream",
          "text": [
            "Downloading data from https://github.com/fchollet/deep-learning-models/releases/download/v0.1/vgg19_weights_tf_dim_ordering_tf_kernels_notop.h5\n",
            "80142336/80134624 [==============================] - 1s 0us/step\n",
            "Epoch 1/10\n",
            "409/409 [==============================] - 37s 91ms/step - loss: 3.6003 - acc: 0.8937 - val_loss: 2.2935 - val_acc: 0.9235\n",
            "Epoch 2/10\n",
            "409/409 [==============================] - 28s 69ms/step - loss: 2.0278 - acc: 0.9242 - val_loss: 1.7065 - val_acc: 0.9311\n",
            "Epoch 3/10\n",
            "409/409 [==============================] - 29s 71ms/step - loss: 1.7369 - acc: 0.9218 - val_loss: 1.4728 - val_acc: 0.9321\n",
            "Epoch 4/10\n",
            "409/409 [==============================] - 29s 71ms/step - loss: 1.6269 - acc: 0.9183 - val_loss: 1.3357 - val_acc: 0.9333\n",
            "Epoch 5/10\n",
            "409/409 [==============================] - 29s 71ms/step - loss: 1.2615 - acc: 0.9347 - val_loss: 1.6676 - val_acc: 0.9056\n",
            "Epoch 6/10\n",
            "409/409 [==============================] - 29s 70ms/step - loss: 1.3474 - acc: 0.9250 - val_loss: 1.1717 - val_acc: 0.9349\n",
            "Epoch 7/10\n",
            "409/409 [==============================] - 29s 71ms/step - loss: 1.2413 - acc: 0.9294 - val_loss: 1.1297 - val_acc: 0.9355\n",
            "Epoch 8/10\n",
            "409/409 [==============================] - 29s 71ms/step - loss: 1.0865 - acc: 0.9373 - val_loss: 1.4113 - val_acc: 0.9164\n",
            "Epoch 9/10\n",
            "409/409 [==============================] - 30s 73ms/step - loss: 1.1113 - acc: 0.9346 - val_loss: 1.1613 - val_acc: 0.9316\n",
            "Epoch 10/10\n",
            "409/409 [==============================] - 29s 71ms/step - loss: 1.0968 - acc: 0.9349 - val_loss: 0.9912 - val_acc: 0.9411\n"
          ],
          "name": "stdout"
        }
      ]
    },
    {
      "metadata": {
        "id": "ODKHEim6x0Zd",
        "colab_type": "text"
      },
      "cell_type": "markdown",
      "source": [
        "***ResNeXt101***"
      ]
    },
    {
      "metadata": {
        "id": "a8vMRda_XrUU",
        "colab_type": "code",
        "colab": {}
      },
      "cell_type": "code",
      "source": [
        "# Build model\n",
        "X_input = Input((32, 32, 3))\n",
        "base_model = ResNeXt101(weights=\"imagenet\", include_top=False, input_tensor=X_input)\n",
        "model = buildModel(base_model)\n",
        "\n",
        "# Train model\n",
        "fitModel(model)"
      ],
      "execution_count": 0,
      "outputs": []
    },
    {
      "metadata": {
        "id": "8GO3vKXsyJvo",
        "colab_type": "text"
      },
      "cell_type": "markdown",
      "source": [
        "***InceptionV3***"
      ]
    },
    {
      "metadata": {
        "id": "vgxoSzrfyNj7",
        "colab_type": "code",
        "colab": {}
      },
      "cell_type": "code",
      "source": [
        "# Build model\n",
        "X_input = Input((32, 32, 3))\n",
        "base_model = InceptionV3(weights=\"imagenet\", include_top=False, input_tensor=X_input)\n",
        "model = buildModel(base_model)\n",
        "\n",
        "# Freeze 80% layers\n",
        "threshold = int(len(model.layers) * 0.8)\n",
        "for i in model.layers[:threshold]:\n",
        "  i.trainable = False\n",
        "for i in model.layers[threshold:]:\n",
        "  i.trainable = True\n",
        "  \n",
        "# Compile model\n",
        "model.compile(optimizer=Adam(lr=0.0005), loss='binary_crossentropy', metrics=['accuracy'])\n",
        "\n",
        "# Train model\n",
        "history.append(model.fit_generator(generator=train_generator, epochs=epochs,\n",
        "                                   steps_per_epoch=int(X_train.shape[0] // batch_size * 1.5),\n",
        "                                   validation_data=val_generator, \n",
        "                                   validation_steps=int(X_train.shape[0] // batch_size * 0.4),\n",
        "                                   callbacks=[learning_rate_reduction]))"
      ],
      "execution_count": 0,
      "outputs": []
    },
    {
      "metadata": {
        "id": "CWybF6B7yLkM",
        "colab_type": "text"
      },
      "cell_type": "markdown",
      "source": [
        "***InceptionResNetV2***"
      ]
    },
    {
      "metadata": {
        "id": "svqWZq8dytEb",
        "colab_type": "code",
        "colab": {}
      },
      "cell_type": "code",
      "source": [
        "# Build model\n",
        "X_input = Input((32, 32, 3))\n",
        "base_model = InceptionResNetV2(weights=\"imagenet\", include_top=False, input_tensor=X_input)\n",
        "model = buildModel(base_model)\n",
        "\n",
        "# Train model\n",
        "fitModel(model)"
      ],
      "execution_count": 0,
      "outputs": []
    },
    {
      "metadata": {
        "id": "-qGxTAhay2RZ",
        "colab_type": "text"
      },
      "cell_type": "markdown",
      "source": [
        "***MobileNetV2***"
      ]
    },
    {
      "metadata": {
        "id": "GQK7B7aQzCy0",
        "colab_type": "code",
        "outputId": "cc2c9b60-d7e2-4d95-b06c-17ac9c059e82",
        "colab": {
          "base_uri": "https://localhost:8080/",
          "height": 546
        }
      },
      "cell_type": "code",
      "source": [
        "# Build model\n",
        "X_input = Input((32, 32, 3))\n",
        "base_model = MobileNetV2(weights=\"imagenet\", include_top=False, input_tensor=X_input)\n",
        "model = buildModel(base_model)\n",
        "\n",
        "# Train model\n",
        "fitModel(model)"
      ],
      "execution_count": 0,
      "outputs": [
        {
          "output_type": "stream",
          "text": [
            "/usr/local/lib/python3.6/dist-packages/keras_applications/mobilenet_v2.py:295: UserWarning: MobileNet shape is undefined. Weights for input shape(224, 224) will be loaded.\n",
            "  warnings.warn('MobileNet shape is undefined.'\n"
          ],
          "name": "stderr"
        },
        {
          "output_type": "stream",
          "text": [
            "Downloading data from https://github.com/JonathanCMitchell/mobilenet_v2_keras/releases/download/v1.1/mobilenet_v2_weights_tf_dim_ordering_tf_kernels_1.0_224_no_top.h5\n",
            "9412608/9406464 [==============================] - 0s 0us/step\n",
            "Epoch 1/10\n",
            "409/409 [==============================] - 46s 112ms/step - loss: 1.6347 - acc: 0.9071 - val_loss: 0.8308 - val_acc: 0.6817\n",
            "Epoch 2/10\n",
            "409/409 [==============================] - 30s 74ms/step - loss: 0.2026 - acc: 0.9285 - val_loss: 1.2681 - val_acc: 0.7251\n",
            "Epoch 3/10\n",
            "409/409 [==============================] - 31s 75ms/step - loss: 0.1801 - acc: 0.9320 - val_loss: 0.9968 - val_acc: 0.5922\n",
            "Epoch 4/10\n",
            "409/409 [==============================] - 31s 76ms/step - loss: 0.1894 - acc: 0.9355 - val_loss: 0.7479 - val_acc: 0.5236\n",
            "Epoch 5/10\n",
            "409/409 [==============================] - 31s 75ms/step - loss: 0.1722 - acc: 0.9356 - val_loss: 1.2891 - val_acc: 0.3321\n",
            "\n",
            "Epoch 00005: ReduceLROnPlateau reducing learning rate to 0.00035000001662410796.\n",
            "Epoch 6/10\n",
            "409/409 [==============================] - 31s 75ms/step - loss: 0.1528 - acc: 0.9422 - val_loss: 0.7006 - val_acc: 0.6945\n",
            "Epoch 7/10\n",
            "409/409 [==============================] - 31s 76ms/step - loss: 0.1503 - acc: 0.9423 - val_loss: 1.4279 - val_acc: 0.3575\n",
            "Epoch 8/10\n",
            "409/409 [==============================] - 31s 76ms/step - loss: 0.1456 - acc: 0.9452 - val_loss: 0.7688 - val_acc: 0.6585\n",
            "\n",
            "Epoch 00008: ReduceLROnPlateau reducing learning rate to 0.00024500001163687554.\n",
            "Epoch 9/10\n",
            "409/409 [==============================] - 31s 75ms/step - loss: 0.1485 - acc: 0.9436 - val_loss: 0.8160 - val_acc: 0.5909\n",
            "Epoch 10/10\n",
            "409/409 [==============================] - 32s 78ms/step - loss: 0.1435 - acc: 0.9466 - val_loss: 0.6384 - val_acc: 0.7090\n"
          ],
          "name": "stdout"
        }
      ]
    },
    {
      "metadata": {
        "id": "Irh9QuB8y738",
        "colab_type": "text"
      },
      "cell_type": "markdown",
      "source": [
        "***DenseNet201***"
      ]
    },
    {
      "metadata": {
        "id": "K3oEW2O8zIKi",
        "colab_type": "code",
        "outputId": "b9df008f-bec1-4ff5-e322-25ada9e92746",
        "colab": {
          "base_uri": "https://localhost:8080/",
          "height": 474
        }
      },
      "cell_type": "code",
      "source": [
        "# Build model\n",
        "X_input = Input((32, 32, 3))\n",
        "base_model = DenseNet201(weights=\"imagenet\", include_top=False, input_tensor=X_input)\n",
        "model = buildModel(base_model)\n",
        "\n",
        "# Train model\n",
        "fitModel(model)"
      ],
      "execution_count": 0,
      "outputs": [
        {
          "output_type": "stream",
          "text": [
            "Downloading data from https://github.com/keras-team/keras-applications/releases/download/densenet/densenet201_weights_tf_dim_ordering_tf_kernels_notop.h5\n",
            "74842112/74836368 [==============================] - 1s 0us/step\n",
            "Epoch 1/10\n",
            "409/409 [==============================] - 108s 263ms/step - loss: 1.0955 - acc: 0.9511 - val_loss: 4.0938 - val_acc: 0.7403\n",
            "Epoch 2/10\n",
            "409/409 [==============================] - 69s 168ms/step - loss: 0.1012 - acc: 0.9690 - val_loss: 3.5426 - val_acc: 0.7460\n",
            "Epoch 3/10\n",
            "409/409 [==============================] - 69s 168ms/step - loss: 0.0817 - acc: 0.9740 - val_loss: 3.7949 - val_acc: 0.7431\n",
            "Epoch 4/10\n",
            "409/409 [==============================] - 69s 169ms/step - loss: 0.0806 - acc: 0.9736 - val_loss: 2.1778 - val_acc: 0.7969\n",
            "Epoch 5/10\n",
            "409/409 [==============================] - 69s 169ms/step - loss: 0.0720 - acc: 0.9765 - val_loss: 3.4626 - val_acc: 0.7543\n",
            "Epoch 6/10\n",
            "409/409 [==============================] - 69s 168ms/step - loss: 0.0728 - acc: 0.9760 - val_loss: 4.1578 - val_acc: 0.7396\n",
            "Epoch 7/10\n",
            "409/409 [==============================] - 69s 168ms/step - loss: 0.0691 - acc: 0.9782 - val_loss: 0.9491 - val_acc: 0.8718\n",
            "Epoch 8/10\n",
            "409/409 [==============================] - 69s 168ms/step - loss: 0.0675 - acc: 0.9790 - val_loss: 3.7769 - val_acc: 0.7424\n",
            "Epoch 9/10\n",
            "409/409 [==============================] - 68s 167ms/step - loss: 0.0583 - acc: 0.9814 - val_loss: 3.6121 - val_acc: 0.7504\n",
            "Epoch 10/10\n",
            "409/409 [==============================] - 69s 168ms/step - loss: 0.0600 - acc: 0.9804 - val_loss: 1.3524 - val_acc: 0.8428\n",
            "\n",
            "Epoch 00010: ReduceLROnPlateau reducing learning rate to 0.00035000001662410796.\n"
          ],
          "name": "stdout"
        }
      ]
    },
    {
      "metadata": {
        "id": "O4XNIyS-y92z",
        "colab_type": "text"
      },
      "cell_type": "markdown",
      "source": [
        "***NASNetLarge***"
      ]
    },
    {
      "metadata": {
        "id": "7iv7kA7nzLCs",
        "colab_type": "code",
        "outputId": "85bbc4db-2dc1-4237-ae8a-ef87bfcc1082",
        "colab": {
          "base_uri": "https://localhost:8080/",
          "height": 490
        }
      },
      "cell_type": "code",
      "source": [
        "# Build model\n",
        "X_input = Input((32, 32, 3))\n",
        "base_model = NASNetLarge(weights=\"imagenet\", include_top=False, input_tensor=X_input)\n",
        "model = buildModel(base_model)\n",
        "\n",
        "# Train model\n",
        "fitModel(model)"
      ],
      "execution_count": 0,
      "outputs": [
        {
          "output_type": "stream",
          "text": [
            "Downloading data from https://github.com/titu1994/Keras-NASNet/releases/download/v1.2/NASNet-large-no-top.h5\n",
            "343613440/343610240 [==============================] - 3s 0us/step\n",
            "Epoch 1/10\n",
            "409/409 [==============================] - 189s 462ms/step - loss: 1.1958 - acc: 0.9104 - val_loss: 11.9443 - val_acc: 0.2612\n",
            "Epoch 2/10\n",
            "409/409 [==============================] - 126s 308ms/step - loss: 0.2079 - acc: 0.9329 - val_loss: 4.2015 - val_acc: 0.7381\n",
            "Epoch 3/10\n",
            "409/409 [==============================] - 126s 309ms/step - loss: 0.1721 - acc: 0.9409 - val_loss: 11.9527 - val_acc: 0.2591\n",
            "Epoch 4/10\n",
            "409/409 [==============================] - 126s 309ms/step - loss: 0.1635 - acc: 0.9432 - val_loss: 11.9092 - val_acc: 0.2619\n",
            "Epoch 5/10\n",
            "409/409 [==============================] - 126s 309ms/step - loss: 0.1578 - acc: 0.9455 - val_loss: 11.9576 - val_acc: 0.2588\n",
            "\n",
            "Epoch 00005: ReduceLROnPlateau reducing learning rate to 0.00035000001662410796.\n",
            "Epoch 6/10\n",
            "409/409 [==============================] - 126s 309ms/step - loss: 0.1424 - acc: 0.9487 - val_loss: 11.8962 - val_acc: 0.2625\n",
            "Epoch 7/10\n",
            "409/409 [==============================] - 126s 309ms/step - loss: 0.1419 - acc: 0.9499 - val_loss: 11.8982 - val_acc: 0.2575\n",
            "Epoch 8/10\n",
            "409/409 [==============================] - 126s 309ms/step - loss: 0.1381 - acc: 0.9519 - val_loss: 11.8689 - val_acc: 0.2642\n",
            "\n",
            "Epoch 00008: ReduceLROnPlateau reducing learning rate to 0.00024500001163687554.\n",
            "Epoch 9/10\n",
            "409/409 [==============================] - 126s 309ms/step - loss: 0.1283 - acc: 0.9557 - val_loss: 11.9486 - val_acc: 0.2590\n",
            "Epoch 10/10\n",
            "409/409 [==============================] - 126s 309ms/step - loss: 0.1278 - acc: 0.9520 - val_loss: 11.9406 - val_acc: 0.2595\n"
          ],
          "name": "stdout"
        }
      ]
    },
    {
      "metadata": {
        "id": "5kiUrHz_DxKH",
        "colab_type": "text"
      },
      "cell_type": "markdown",
      "source": [
        "***Plot only validation set info***"
      ]
    },
    {
      "metadata": {
        "id": "_kHGKbn8DCKz",
        "colab_type": "code",
        "outputId": "06aec706-af27-4492-ebcc-97cacea68478",
        "colab": {
          "base_uri": "https://localhost:8080/",
          "height": 457
        }
      },
      "cell_type": "code",
      "source": [
        "plt.figure(figsize=(10, 7))\n",
        "for i, j in enumerate(history):\n",
        "  plt.plot(j.history['val_acc'])\n",
        "plt.title('model accuracy')\n",
        "plt.ylabel('accuracy')\n",
        "plt.xlabel('epoch')\n",
        "plt.legend([\"Xception val\", \"VGG16 val\", \n",
        "            \"VGG19 val\", \"MobilenetV2 val\",\n",
        "            \"DenseNet201 val\", \"NASNetLarge val\"], \n",
        "           loc='lower right')\n",
        "plt.show()"
      ],
      "execution_count": 0,
      "outputs": [
        {
          "output_type": "display_data",
          "data": {
            "image/png": "[encoded data removed]",
            "text/plain": [
              "<Figure size 720x504 with 1 Axes>"
            ]
          },
          "metadata": {
            "tags": []
          }
        }
      ]
    },
    {
      "metadata": {
        "id": "oOVI81_eEDJR",
        "colab_type": "code",
        "outputId": "be12d682-9ceb-4ab0-e801-141959c07a00",
        "colab": {
          "base_uri": "https://localhost:8080/",
          "height": 457
        }
      },
      "cell_type": "code",
      "source": [
        "plt.figure(figsize=(10, 7))\n",
        "for i, j in enumerate(history):\n",
        "  plt.plot(j.history['val_loss'])\n",
        "plt.title('model loss')\n",
        "plt.ylabel('loss')\n",
        "plt.xlabel('epoch')\n",
        "plt.legend([\"Xception val\", \"VGG16 val\", \n",
        "            \"VGG19 val\", \"MobilenetV2 val\",\n",
        "            \"DenseNet201 val\", \"NASNetLarge val\"], \n",
        "           loc='lower right')\n",
        "plt.show()"
      ],
      "execution_count": 0,
      "outputs": [
        {
          "output_type": "display_data",
          "data": {
            "image/png": "[encoded data removed]",
            "text/plain": [
              "<Figure size 720x504 with 1 Axes>"
            ]
          },
          "metadata": {
            "tags": []
          }
        }
      ]
    },
    {
      "metadata": {
        "id": "u2Oph89fFBhZ",
        "colab_type": "text"
      },
      "cell_type": "markdown",
      "source": [
        "***As we can see from the benchmark, VGG16 and VGG19 give us the best model. Now we will continue training these models on a larger number of epochs***"
      ]
    },
    {
      "metadata": {
        "id": "iAnxJAnNGzwL",
        "colab_type": "code",
        "colab": {}
      },
      "cell_type": "code",
      "source": [
        "epochs = 200\n",
        "history = []"
      ],
      "execution_count": 0,
      "outputs": []
    },
    {
      "metadata": {
        "id": "H4HOXEzIGjAX",
        "colab_type": "text"
      },
      "cell_type": "markdown",
      "source": [
        "# VGG16"
      ]
    },
    {
      "metadata": {
        "id": "i0ByiYapcSo6",
        "colab_type": "text"
      },
      "cell_type": "markdown",
      "source": [
        "***Training model***"
      ]
    },
    {
      "metadata": {
        "id": "ZZ-gh3CIH7p5",
        "colab_type": "code",
        "colab": {}
      },
      "cell_type": "code",
      "source": [
        "checkpoint = ModelCheckpoint(\"/content/drive/My Drive/ML/Kaggle/5. Aerial Cactus Identification/vgg16.h5\", \\\n",
        "                             monitor=\"val_acc\", verbose=1, save_best_only=True, mode='max')"
      ],
      "execution_count": 0,
      "outputs": []
    },
    {
      "metadata": {
        "id": "REzJiAL0E2iB",
        "colab_type": "code",
        "outputId": "c7debf77-0afa-4ccf-b2c8-625230af42fc",
        "colab": {
          "base_uri": "https://localhost:8080/",
          "height": 9736
        }
      },
      "cell_type": "code",
      "source": [
        "# Build model\n",
        "X_input = Input((32, 32, 3))\n",
        "base_model = VGG16(weights=\"imagenet\", include_top=False, input_tensor=X_input)\n",
        "model = buildModel(base_model)\n",
        "\n",
        "# Train model\n",
        "model = fitModel(model, cpoint=True)"
      ],
      "execution_count": 0,
      "outputs": [
        {
          "output_type": "stream",
          "text": [
            "Epoch 1/200\n",
            "409/409 [==============================] - 29s 72ms/step - loss: 3.4418 - acc: 0.9002 - val_loss: 2.7497 - val_acc: 0.8920\n",
            "\n",
            "Epoch 00001: val_acc improved from -inf to 0.89204, saving model to /content/drive/My Drive/ML/Kaggle/5. Aerial Cactus Identification/vgg16.h5\n",
            "Epoch 2/200\n",
            "409/409 [==============================] - 28s 69ms/step - loss: 1.8316 - acc: 0.9338 - val_loss: 1.5486 - val_acc: 0.9401\n",
            "\n",
            "Epoch 00002: val_acc improved from 0.89204 to 0.94007, saving model to /content/drive/My Drive/ML/Kaggle/5. Aerial Cactus Identification/vgg16.h5\n",
            "Epoch 3/200\n",
            "409/409 [==============================] - 29s 70ms/step - loss: 1.4650 - acc: 0.9382 - val_loss: 1.1532 - val_acc: 0.9517\n",
            "\n",
            "Epoch 00003: val_acc improved from 0.94007 to 0.95167, saving model to /content/drive/My Drive/ML/Kaggle/5. Aerial Cactus Identification/vgg16.h5\n",
            "Epoch 4/200\n",
            "409/409 [==============================] - 29s 71ms/step - loss: 1.3852 - acc: 0.9328 - val_loss: 1.3599 - val_acc: 0.9305\n",
            "\n",
            "Epoch 00004: val_acc did not improve from 0.95167\n",
            "Epoch 5/200\n",
            "409/409 [==============================] - 28s 69ms/step - loss: 1.1946 - acc: 0.9389 - val_loss: 1.0462 - val_acc: 0.9458\n",
            "\n",
            "Epoch 00005: val_acc did not improve from 0.95167\n",
            "Epoch 6/200\n",
            "409/409 [==============================] - 29s 71ms/step - loss: 1.3775 - acc: 0.9241 - val_loss: 1.0260 - val_acc: 0.9454\n",
            "\n",
            "Epoch 00006: ReduceLROnPlateau reducing learning rate to 0.00035000001662410796.\n",
            "\n",
            "Epoch 00006: val_acc did not improve from 0.95167\n",
            "Epoch 7/200\n",
            "409/409 [==============================] - 28s 69ms/step - loss: 1.0111 - acc: 0.9455 - val_loss: 0.7856 - val_acc: 0.9584\n",
            "\n",
            "Epoch 00007: val_acc improved from 0.95167 to 0.95843, saving model to /content/drive/My Drive/ML/Kaggle/5. Aerial Cactus Identification/vgg16.h5\n",
            "Epoch 8/200\n",
            "409/409 [==============================] - 29s 70ms/step - loss: 0.9175 - acc: 0.9495 - val_loss: 1.1181 - val_acc: 0.9368\n",
            "\n",
            "Epoch 00008: val_acc did not improve from 0.95843\n",
            "Epoch 9/200\n",
            "409/409 [==============================] - 28s 69ms/step - loss: 0.8017 - acc: 0.9556 - val_loss: 0.7406 - val_acc: 0.9587\n",
            "\n",
            "Epoch 00009: val_acc improved from 0.95843 to 0.95873, saving model to /content/drive/My Drive/ML/Kaggle/5. Aerial Cactus Identification/vgg16.h5\n",
            "Epoch 10/200\n",
            "409/409 [==============================] - 29s 70ms/step - loss: 0.8703 - acc: 0.9500 - val_loss: 0.7071 - val_acc: 0.9598\n",
            "\n",
            "Epoch 00010: val_acc improved from 0.95873 to 0.95975, saving model to /content/drive/My Drive/ML/Kaggle/5. Aerial Cactus Identification/vgg16.h5\n",
            "Epoch 11/200\n",
            "409/409 [==============================] - 29s 70ms/step - loss: 0.7156 - acc: 0.9585 - val_loss: 0.7216 - val_acc: 0.9578\n",
            "\n",
            "Epoch 00011: val_acc did not improve from 0.95975\n",
            "Epoch 12/200\n",
            "409/409 [==============================] - 27s 67ms/step - loss: 0.7328 - acc: 0.9570 - val_loss: 0.7904 - val_acc: 0.9534\n",
            "\n",
            "Epoch 00012: val_acc did not improve from 0.95975\n",
            "Epoch 13/200\n",
            "409/409 [==============================] - 28s 69ms/step - loss: 0.6457 - acc: 0.9617 - val_loss: 0.6456 - val_acc: 0.9615\n",
            "\n",
            "Epoch 00013: val_acc improved from 0.95975 to 0.96152, saving model to /content/drive/My Drive/ML/Kaggle/5. Aerial Cactus Identification/vgg16.h5\n",
            "Epoch 14/200\n",
            "409/409 [==============================] - 28s 68ms/step - loss: 0.6993 - acc: 0.9579 - val_loss: 0.6283 - val_acc: 0.9625\n",
            "\n",
            "Epoch 00014: val_acc improved from 0.96152 to 0.96254, saving model to /content/drive/My Drive/ML/Kaggle/5. Aerial Cactus Identification/vgg16.h5\n",
            "Epoch 15/200\n",
            "409/409 [==============================] - 28s 68ms/step - loss: 0.7206 - acc: 0.9564 - val_loss: 0.7118 - val_acc: 0.9570\n",
            "\n",
            "Epoch 00015: val_acc did not improve from 0.96254\n",
            "Epoch 16/200\n",
            "409/409 [==============================] - 28s 68ms/step - loss: 0.6556 - acc: 0.9604 - val_loss: 0.6424 - val_acc: 0.9611\n",
            "\n",
            "Epoch 00016: val_acc did not improve from 0.96254\n",
            "Epoch 17/200\n",
            "409/409 [==============================] - 27s 67ms/step - loss: 0.6458 - acc: 0.9608 - val_loss: 0.5908 - val_acc: 0.9641\n",
            "\n",
            "Epoch 00017: val_acc improved from 0.96254 to 0.96409, saving model to /content/drive/My Drive/ML/Kaggle/5. Aerial Cactus Identification/vgg16.h5\n",
            "Epoch 18/200\n",
            "409/409 [==============================] - 28s 69ms/step - loss: 0.7463 - acc: 0.9546 - val_loss: 0.6386 - val_acc: 0.9608\n",
            "\n",
            "Epoch 00018: val_acc did not improve from 0.96409\n",
            "Epoch 19/200\n",
            "409/409 [==============================] - 27s 67ms/step - loss: 0.7296 - acc: 0.9556 - val_loss: 0.6252 - val_acc: 0.9621\n",
            "\n",
            "Epoch 00019: val_acc did not improve from 0.96409\n",
            "Epoch 20/200\n",
            "409/409 [==============================] - 27s 67ms/step - loss: 0.6088 - acc: 0.9628 - val_loss: 0.8428 - val_acc: 0.9483\n",
            "\n",
            "Epoch 00020: ReduceLROnPlateau reducing learning rate to 0.00024500001163687554.\n",
            "\n",
            "Epoch 00020: val_acc did not improve from 0.96409\n",
            "Epoch 21/200\n",
            "409/409 [==============================] - 28s 68ms/step - loss: 0.5857 - acc: 0.9639 - val_loss: 0.6255 - val_acc: 0.9615\n",
            "\n",
            "Epoch 00021: val_acc did not improve from 0.96409\n",
            "Epoch 22/200\n",
            "409/409 [==============================] - 28s 68ms/step - loss: 0.5554 - acc: 0.9655 - val_loss: 0.5355 - val_acc: 0.9665\n",
            "\n",
            "Epoch 00022: val_acc improved from 0.96409 to 0.96651, saving model to /content/drive/My Drive/ML/Kaggle/5. Aerial Cactus Identification/vgg16.h5\n",
            "Epoch 23/200\n",
            "409/409 [==============================] - 28s 69ms/step - loss: 0.3201 - acc: 0.9661 - val_loss: 0.1092 - val_acc: 0.9692\n",
            "\n",
            "Epoch 00023: val_acc improved from 0.96651 to 0.96915, saving model to /content/drive/My Drive/ML/Kaggle/5. Aerial Cactus Identification/vgg16.h5\n",
            "Epoch 24/200\n",
            "409/409 [==============================] - 28s 67ms/step - loss: 0.0999 - acc: 0.9693 - val_loss: 0.0947 - val_acc: 0.9699\n",
            "\n",
            "Epoch 00024: val_acc improved from 0.96915 to 0.96989, saving model to /content/drive/My Drive/ML/Kaggle/5. Aerial Cactus Identification/vgg16.h5\n",
            "Epoch 25/200\n",
            "409/409 [==============================] - 27s 67ms/step - loss: 0.0862 - acc: 0.9742 - val_loss: 0.0898 - val_acc: 0.9740\n",
            "\n",
            "Epoch 00025: val_acc improved from 0.96989 to 0.97400, saving model to /content/drive/My Drive/ML/Kaggle/5. Aerial Cactus Identification/vgg16.h5\n",
            "Epoch 26/200\n",
            "409/409 [==============================] - 28s 69ms/step - loss: 0.0772 - acc: 0.9762 - val_loss: 0.0811 - val_acc: 0.9746\n",
            "\n",
            "Epoch 00026: val_acc improved from 0.97400 to 0.97459, saving model to /content/drive/My Drive/ML/Kaggle/5. Aerial Cactus Identification/vgg16.h5\n",
            "Epoch 27/200\n",
            "409/409 [==============================] - 28s 69ms/step - loss: 0.0721 - acc: 0.9766 - val_loss: 0.0978 - val_acc: 0.9667\n",
            "\n",
            "Epoch 00027: val_acc did not improve from 0.97459\n",
            "Epoch 28/200\n",
            "409/409 [==============================] - 29s 71ms/step - loss: 0.0693 - acc: 0.9775 - val_loss: 0.0720 - val_acc: 0.9753\n",
            "\n",
            "Epoch 00028: val_acc improved from 0.97459 to 0.97532, saving model to /content/drive/My Drive/ML/Kaggle/5. Aerial Cactus Identification/vgg16.h5\n",
            "Epoch 29/200\n",
            "409/409 [==============================] - 28s 70ms/step - loss: 0.0644 - acc: 0.9796 - val_loss: 0.0654 - val_acc: 0.9772\n",
            "\n",
            "Epoch 00029: val_acc improved from 0.97532 to 0.97723, saving model to /content/drive/My Drive/ML/Kaggle/5. Aerial Cactus Identification/vgg16.h5\n",
            "Epoch 30/200\n",
            "409/409 [==============================] - 29s 70ms/step - loss: 0.0626 - acc: 0.9791 - val_loss: 0.0593 - val_acc: 0.9783\n",
            "\n",
            "Epoch 00030: val_acc improved from 0.97723 to 0.97826, saving model to /content/drive/My Drive/ML/Kaggle/5. Aerial Cactus Identification/vgg16.h5\n",
            "Epoch 31/200\n",
            "409/409 [==============================] - 28s 69ms/step - loss: 0.0549 - acc: 0.9813 - val_loss: 0.0585 - val_acc: 0.9805\n",
            "\n",
            "Epoch 00031: val_acc improved from 0.97826 to 0.98046, saving model to /content/drive/My Drive/ML/Kaggle/5. Aerial Cactus Identification/vgg16.h5\n",
            "Epoch 32/200\n",
            "409/409 [==============================] - 29s 70ms/step - loss: 0.0548 - acc: 0.9815 - val_loss: 0.0609 - val_acc: 0.9793\n",
            "\n",
            "Epoch 00032: val_acc did not improve from 0.98046\n",
            "Epoch 33/200\n",
            "409/409 [==============================] - 29s 71ms/step - loss: 0.0546 - acc: 0.9809 - val_loss: 0.0506 - val_acc: 0.9835\n",
            "\n",
            "Epoch 00033: val_acc improved from 0.98046 to 0.98355, saving model to /content/drive/My Drive/ML/Kaggle/5. Aerial Cactus Identification/vgg16.h5\n",
            "Epoch 34/200\n",
            "409/409 [==============================] - 29s 70ms/step - loss: 0.0485 - acc: 0.9839 - val_loss: 0.0555 - val_acc: 0.9811\n",
            "\n",
            "Epoch 00034: val_acc did not improve from 0.98355\n",
            "Epoch 35/200\n",
            "409/409 [==============================] - 28s 69ms/step - loss: 0.0481 - acc: 0.9837 - val_loss: 0.0602 - val_acc: 0.9786\n",
            "\n",
            "Epoch 00035: val_acc did not improve from 0.98355\n",
            "Epoch 36/200\n",
            "409/409 [==============================] - 28s 69ms/step - loss: 0.0485 - acc: 0.9833 - val_loss: 0.0553 - val_acc: 0.9801\n",
            "\n",
            "Epoch 00036: ReduceLROnPlateau reducing learning rate to 0.00017150000203400848.\n",
            "\n",
            "Epoch 00036: val_acc did not improve from 0.98355\n",
            "Epoch 37/200\n",
            "409/409 [==============================] - 28s 68ms/step - loss: 0.0419 - acc: 0.9851 - val_loss: 0.0590 - val_acc: 0.9802\n",
            "\n",
            "Epoch 00037: val_acc did not improve from 0.98355\n",
            "Epoch 38/200\n",
            "409/409 [==============================] - 28s 69ms/step - loss: 0.0447 - acc: 0.9840 - val_loss: 0.0610 - val_acc: 0.9790\n",
            "\n",
            "Epoch 00038: val_acc did not improve from 0.98355\n",
            "Epoch 39/200\n",
            "409/409 [==============================] - 28s 68ms/step - loss: 0.0452 - acc: 0.9837 - val_loss: 0.0514 - val_acc: 0.9816\n",
            "\n",
            "Epoch 00039: ReduceLROnPlateau reducing learning rate to 0.00012004999734926967.\n",
            "\n",
            "Epoch 00039: val_acc did not improve from 0.98355\n",
            "Epoch 40/200\n",
            "409/409 [==============================] - 28s 69ms/step - loss: 0.0405 - acc: 0.9857 - val_loss: 0.0571 - val_acc: 0.9793\n",
            "\n",
            "Epoch 00040: val_acc did not improve from 0.98355\n",
            "Epoch 41/200\n",
            "409/409 [==============================] - 28s 68ms/step - loss: 0.0422 - acc: 0.9849 - val_loss: 0.0478 - val_acc: 0.9797\n",
            "\n",
            "Epoch 00041: val_acc did not improve from 0.98355\n",
            "Epoch 42/200\n",
            "409/409 [==============================] - 28s 69ms/step - loss: 0.0407 - acc: 0.9857 - val_loss: 0.0451 - val_acc: 0.9846\n",
            "\n",
            "Epoch 00042: val_acc improved from 0.98355 to 0.98458, saving model to /content/drive/My Drive/ML/Kaggle/5. Aerial Cactus Identification/vgg16.h5\n",
            "Epoch 43/200\n",
            "409/409 [==============================] - 29s 70ms/step - loss: 0.0415 - acc: 0.9858 - val_loss: 0.0492 - val_acc: 0.9794\n",
            "\n",
            "Epoch 00043: val_acc did not improve from 0.98458\n",
            "Epoch 44/200\n",
            "409/409 [==============================] - 28s 67ms/step - loss: 0.0402 - acc: 0.9858 - val_loss: 0.0511 - val_acc: 0.9821\n",
            "\n",
            "Epoch 00044: val_acc did not improve from 0.98458\n",
            "Epoch 45/200\n",
            "409/409 [==============================] - 28s 69ms/step - loss: 0.0397 - acc: 0.9856 - val_loss: 0.0555 - val_acc: 0.9815\n",
            "\n",
            "Epoch 00045: ReduceLROnPlateau reducing learning rate to 8.403499814448878e-05.\n",
            "\n",
            "Epoch 00045: val_acc did not improve from 0.98458\n",
            "Epoch 46/200\n",
            "409/409 [==============================] - 27s 67ms/step - loss: 0.0382 - acc: 0.9855 - val_loss: 0.0425 - val_acc: 0.9834\n",
            "\n",
            "Epoch 00046: val_acc did not improve from 0.98458\n",
            "Epoch 47/200\n",
            "409/409 [==============================] - 28s 68ms/step - loss: 0.0377 - acc: 0.9869 - val_loss: 0.0461 - val_acc: 0.9838\n",
            "\n",
            "Epoch 00047: val_acc did not improve from 0.98458\n",
            "Epoch 48/200\n",
            "409/409 [==============================] - 28s 68ms/step - loss: 0.0386 - acc: 0.9855 - val_loss: 0.0455 - val_acc: 0.9840\n",
            "\n",
            "Epoch 00048: ReduceLROnPlateau reducing learning rate to 5.882449768250808e-05.\n",
            "\n",
            "Epoch 00048: val_acc did not improve from 0.98458\n",
            "Epoch 49/200\n",
            "409/409 [==============================] - 28s 68ms/step - loss: 0.0370 - acc: 0.9867 - val_loss: 0.0450 - val_acc: 0.9847\n",
            "\n",
            "Epoch 00049: val_acc improved from 0.98458 to 0.98472, saving model to /content/drive/My Drive/ML/Kaggle/5. Aerial Cactus Identification/vgg16.h5\n",
            "Epoch 50/200\n",
            "409/409 [==============================] - 29s 71ms/step - loss: 0.0354 - acc: 0.9871 - val_loss: 0.0473 - val_acc: 0.9833\n",
            "\n",
            "Epoch 00050: val_acc did not improve from 0.98472\n",
            "Epoch 51/200\n",
            "409/409 [==============================] - 28s 68ms/step - loss: 0.0352 - acc: 0.9874 - val_loss: 0.0471 - val_acc: 0.9827\n",
            "\n",
            "Epoch 00051: val_acc did not improve from 0.98472\n",
            "Epoch 52/200\n",
            "409/409 [==============================] - 28s 69ms/step - loss: 0.0340 - acc: 0.9882 - val_loss: 0.0428 - val_acc: 0.9847\n",
            "\n",
            "Epoch 00052: ReduceLROnPlateau reducing learning rate to 4.117714888707269e-05.\n",
            "\n",
            "Epoch 00052: val_acc did not improve from 0.98472\n",
            "Epoch 53/200\n",
            "409/409 [==============================] - 28s 68ms/step - loss: 0.0368 - acc: 0.9867 - val_loss: 0.0412 - val_acc: 0.9846\n",
            "\n",
            "Epoch 00053: val_acc did not improve from 0.98472\n",
            "Epoch 54/200\n",
            "409/409 [==============================] - 28s 68ms/step - loss: 0.0357 - acc: 0.9865 - val_loss: 0.0477 - val_acc: 0.9838\n",
            "\n",
            "Epoch 00054: val_acc did not improve from 0.98472\n",
            "Epoch 55/200\n",
            "409/409 [==============================] - 28s 68ms/step - loss: 0.0345 - acc: 0.9882 - val_loss: 0.0469 - val_acc: 0.9834\n",
            "\n",
            "Epoch 00055: ReduceLROnPlateau reducing learning rate to 2.88240029476583e-05.\n",
            "\n",
            "Epoch 00055: val_acc did not improve from 0.98472\n",
            "Epoch 56/200\n",
            "409/409 [==============================] - 28s 68ms/step - loss: 0.0364 - acc: 0.9868 - val_loss: 0.0432 - val_acc: 0.9847\n",
            "\n",
            "Epoch 00056: val_acc improved from 0.98472 to 0.98472, saving model to /content/drive/My Drive/ML/Kaggle/5. Aerial Cactus Identification/vgg16.h5\n",
            "Epoch 57/200\n",
            "409/409 [==============================] - 28s 69ms/step - loss: 0.0356 - acc: 0.9874 - val_loss: 0.0422 - val_acc: 0.9853\n",
            "\n",
            "Epoch 00057: val_acc improved from 0.98472 to 0.98531, saving model to /content/drive/My Drive/ML/Kaggle/5. Aerial Cactus Identification/vgg16.h5\n",
            "Epoch 58/200\n",
            "409/409 [==============================] - 28s 69ms/step - loss: 0.0352 - acc: 0.9870 - val_loss: 0.0423 - val_acc: 0.9844\n",
            "\n",
            "Epoch 00058: val_acc did not improve from 0.98531\n",
            "Epoch 59/200\n",
            "409/409 [==============================] - 28s 69ms/step - loss: 0.0359 - acc: 0.9875 - val_loss: 0.0464 - val_acc: 0.9827\n",
            "\n",
            "Epoch 00059: val_acc did not improve from 0.98531\n",
            "Epoch 60/200\n",
            "409/409 [==============================] - 28s 68ms/step - loss: 0.0345 - acc: 0.9874 - val_loss: 0.0413 - val_acc: 0.9844\n",
            "\n",
            "Epoch 00060: ReduceLROnPlateau reducing learning rate to 2.0176801808702293e-05.\n",
            "\n",
            "Epoch 00060: val_acc did not improve from 0.98531\n",
            "Epoch 61/200\n",
            "409/409 [==============================] - 28s 67ms/step - loss: 0.0334 - acc: 0.9879 - val_loss: 0.0433 - val_acc: 0.9833\n",
            "\n",
            "Epoch 00061: val_acc did not improve from 0.98531\n",
            "Epoch 62/200\n",
            "409/409 [==============================] - 28s 68ms/step - loss: 0.0355 - acc: 0.9874 - val_loss: 0.0448 - val_acc: 0.9850\n",
            "\n",
            "Epoch 00062: val_acc did not improve from 0.98531\n",
            "Epoch 63/200\n",
            "409/409 [==============================] - 28s 68ms/step - loss: 0.0342 - acc: 0.9870 - val_loss: 0.0479 - val_acc: 0.9831\n",
            "\n",
            "Epoch 00063: ReduceLROnPlateau reducing learning rate to 1.4123761138762347e-05.\n",
            "\n",
            "Epoch 00063: val_acc did not improve from 0.98531\n",
            "Epoch 64/200\n",
            "409/409 [==============================] - 28s 69ms/step - loss: 0.0348 - acc: 0.9879 - val_loss: 0.0445 - val_acc: 0.9839\n",
            "\n",
            "Epoch 00064: val_acc did not improve from 0.98531\n",
            "Epoch 65/200\n",
            "409/409 [==============================] - 28s 69ms/step - loss: 0.0339 - acc: 0.9882 - val_loss: 0.0397 - val_acc: 0.9855\n",
            "\n",
            "Epoch 00065: val_acc improved from 0.98531 to 0.98546, saving model to /content/drive/My Drive/ML/Kaggle/5. Aerial Cactus Identification/vgg16.h5\n",
            "Epoch 66/200\n",
            "409/409 [==============================] - 29s 70ms/step - loss: 0.0299 - acc: 0.9894 - val_loss: 0.0399 - val_acc: 0.9859\n",
            "\n",
            "Epoch 00066: val_acc improved from 0.98546 to 0.98590, saving model to /content/drive/My Drive/ML/Kaggle/5. Aerial Cactus Identification/vgg16.h5\n",
            "Epoch 67/200\n",
            "409/409 [==============================] - 28s 69ms/step - loss: 0.0336 - acc: 0.9881 - val_loss: 0.0463 - val_acc: 0.9837\n",
            "\n",
            "Epoch 00067: val_acc did not improve from 0.98590\n",
            "Epoch 68/200\n",
            "409/409 [==============================] - 28s 68ms/step - loss: 0.0341 - acc: 0.9892 - val_loss: 0.0450 - val_acc: 0.9838\n",
            "\n",
            "Epoch 00068: val_acc did not improve from 0.98590\n",
            "Epoch 69/200\n",
            "409/409 [==============================] - 28s 68ms/step - loss: 0.0330 - acc: 0.9875 - val_loss: 0.0444 - val_acc: 0.9834\n",
            "\n",
            "Epoch 00069: ReduceLROnPlateau reducing learning rate to 1e-05.\n",
            "\n",
            "Epoch 00069: val_acc did not improve from 0.98590\n",
            "Epoch 70/200\n",
            "409/409 [==============================] - 28s 68ms/step - loss: 0.0322 - acc: 0.9883 - val_loss: 0.0462 - val_acc: 0.9827\n",
            "\n",
            "Epoch 00070: val_acc did not improve from 0.98590\n",
            "Epoch 71/200\n",
            "409/409 [==============================] - 28s 69ms/step - loss: 0.0340 - acc: 0.9884 - val_loss: 0.0447 - val_acc: 0.9849\n",
            "\n",
            "Epoch 00071: val_acc did not improve from 0.98590\n",
            "Epoch 72/200\n",
            "409/409 [==============================] - 28s 68ms/step - loss: 0.0339 - acc: 0.9873 - val_loss: 0.0441 - val_acc: 0.9852\n",
            "\n",
            "Epoch 00072: val_acc did not improve from 0.98590\n",
            "Epoch 73/200\n",
            "409/409 [==============================] - 28s 70ms/step - loss: 0.0322 - acc: 0.9885 - val_loss: 0.0390 - val_acc: 0.9854\n",
            "\n",
            "Epoch 00073: val_acc did not improve from 0.98590\n",
            "Epoch 74/200\n",
            "409/409 [==============================] - 28s 68ms/step - loss: 0.0335 - acc: 0.9879 - val_loss: 0.0459 - val_acc: 0.9840\n",
            "\n",
            "Epoch 00074: val_acc did not improve from 0.98590\n",
            "Epoch 75/200\n",
            "409/409 [==============================] - 28s 68ms/step - loss: 0.0342 - acc: 0.9880 - val_loss: 0.0424 - val_acc: 0.9837\n",
            "\n",
            "Epoch 00075: val_acc did not improve from 0.98590\n",
            "Epoch 76/200\n",
            "409/409 [==============================] - 28s 69ms/step - loss: 0.0322 - acc: 0.9888 - val_loss: 0.0414 - val_acc: 0.9843\n",
            "\n",
            "Epoch 00076: val_acc did not improve from 0.98590\n",
            "Epoch 77/200\n",
            "409/409 [==============================] - 28s 67ms/step - loss: 0.0327 - acc: 0.9885 - val_loss: 0.0407 - val_acc: 0.9866\n",
            "\n",
            "Epoch 00077: val_acc improved from 0.98590 to 0.98663, saving model to /content/drive/My Drive/ML/Kaggle/5. Aerial Cactus Identification/vgg16.h5\n",
            "Epoch 78/200\n",
            "409/409 [==============================] - 28s 69ms/step - loss: 0.0321 - acc: 0.9888 - val_loss: 0.0411 - val_acc: 0.9844\n",
            "\n",
            "Epoch 00078: val_acc did not improve from 0.98663\n",
            "Epoch 79/200\n",
            "409/409 [==============================] - 28s 68ms/step - loss: 0.0324 - acc: 0.9885 - val_loss: 0.0439 - val_acc: 0.9837\n",
            "\n",
            "Epoch 00079: val_acc did not improve from 0.98663\n",
            "Epoch 80/200\n",
            "409/409 [==============================] - 28s 68ms/step - loss: 0.0336 - acc: 0.9884 - val_loss: 0.0428 - val_acc: 0.9840\n",
            "\n",
            "Epoch 00080: val_acc did not improve from 0.98663\n",
            "Epoch 81/200\n",
            "409/409 [==============================] - 28s 69ms/step - loss: 0.0338 - acc: 0.9882 - val_loss: 0.0429 - val_acc: 0.9841\n",
            "\n",
            "Epoch 00081: val_acc did not improve from 0.98663\n",
            "Epoch 82/200\n",
            "409/409 [==============================] - 28s 68ms/step - loss: 0.0311 - acc: 0.9893 - val_loss: 0.0471 - val_acc: 0.9822\n",
            "\n",
            "Epoch 00082: val_acc did not improve from 0.98663\n",
            "Epoch 83/200\n",
            "409/409 [==============================] - 29s 70ms/step - loss: 0.0334 - acc: 0.9886 - val_loss: 0.0444 - val_acc: 0.9844\n",
            "\n",
            "Epoch 00083: val_acc did not improve from 0.98663\n",
            "Epoch 84/200\n",
            "409/409 [==============================] - 28s 67ms/step - loss: 0.0313 - acc: 0.9893 - val_loss: 0.0412 - val_acc: 0.9837\n",
            "\n",
            "Epoch 00084: val_acc did not improve from 0.98663\n",
            "Epoch 85/200\n",
            "409/409 [==============================] - 28s 70ms/step - loss: 0.0335 - acc: 0.9873 - val_loss: 0.0403 - val_acc: 0.9844\n",
            "\n",
            "Epoch 00085: val_acc did not improve from 0.98663\n",
            "Epoch 86/200\n",
            "409/409 [==============================] - 28s 68ms/step - loss: 0.0326 - acc: 0.9888 - val_loss: 0.0410 - val_acc: 0.9856\n",
            "\n",
            "Epoch 00086: val_acc did not improve from 0.98663\n",
            "Epoch 87/200\n",
            "409/409 [==============================] - 28s 68ms/step - loss: 0.0329 - acc: 0.9876 - val_loss: 0.0435 - val_acc: 0.9834\n",
            "\n",
            "Epoch 00087: val_acc did not improve from 0.98663\n",
            "Epoch 88/200\n",
            "409/409 [==============================] - 28s 69ms/step - loss: 0.0308 - acc: 0.9889 - val_loss: 0.0429 - val_acc: 0.9838\n",
            "\n",
            "Epoch 00088: val_acc did not improve from 0.98663\n",
            "Epoch 89/200\n",
            "409/409 [==============================] - 27s 67ms/step - loss: 0.0349 - acc: 0.9877 - val_loss: 0.0421 - val_acc: 0.9849\n",
            "\n",
            "Epoch 00089: val_acc did not improve from 0.98663\n",
            "Epoch 90/200\n",
            "409/409 [==============================] - 28s 69ms/step - loss: 0.0299 - acc: 0.9897 - val_loss: 0.0435 - val_acc: 0.9837\n",
            "\n",
            "Epoch 00090: val_acc did not improve from 0.98663\n",
            "Epoch 91/200\n",
            "409/409 [==============================] - 28s 68ms/step - loss: 0.0341 - acc: 0.9880 - val_loss: 0.0384 - val_acc: 0.9859\n",
            "\n",
            "Epoch 00091: val_acc did not improve from 0.98663\n",
            "Epoch 92/200\n",
            "409/409 [==============================] - 29s 70ms/step - loss: 0.0343 - acc: 0.9876 - val_loss: 0.0412 - val_acc: 0.9850\n",
            "\n",
            "Epoch 00092: val_acc did not improve from 0.98663\n",
            "Epoch 93/200\n",
            "409/409 [==============================] - 28s 69ms/step - loss: 0.0330 - acc: 0.9887 - val_loss: 0.0382 - val_acc: 0.9858\n",
            "\n",
            "Epoch 00093: val_acc did not improve from 0.98663\n",
            "Epoch 94/200\n",
            "409/409 [==============================] - 28s 69ms/step - loss: 0.0311 - acc: 0.9888 - val_loss: 0.0467 - val_acc: 0.9834\n",
            "\n",
            "Epoch 00094: val_acc did not improve from 0.98663\n",
            "Epoch 95/200\n",
            "409/409 [==============================] - 28s 69ms/step - loss: 0.0327 - acc: 0.9890 - val_loss: 0.0412 - val_acc: 0.9827\n",
            "\n",
            "Epoch 00095: val_acc did not improve from 0.98663\n",
            "Epoch 96/200\n",
            "409/409 [==============================] - 28s 68ms/step - loss: 0.0305 - acc: 0.9887 - val_loss: 0.0494 - val_acc: 0.9809\n",
            "\n",
            "Epoch 00096: val_acc did not improve from 0.98663\n",
            "Epoch 97/200\n",
            "409/409 [==============================] - 29s 70ms/step - loss: 0.0315 - acc: 0.9887 - val_loss: 0.0399 - val_acc: 0.9838\n",
            "\n",
            "Epoch 00097: val_acc did not improve from 0.98663\n",
            "Epoch 98/200\n",
            "409/409 [==============================] - 28s 69ms/step - loss: 0.0321 - acc: 0.9888 - val_loss: 0.0415 - val_acc: 0.9844\n",
            "\n",
            "Epoch 00098: val_acc did not improve from 0.98663\n",
            "Epoch 99/200\n",
            "409/409 [==============================] - 28s 69ms/step - loss: 0.0301 - acc: 0.9895 - val_loss: 0.0355 - val_acc: 0.9865\n",
            "\n",
            "Epoch 00099: val_acc did not improve from 0.98663\n",
            "Epoch 100/200\n",
            "409/409 [==============================] - 29s 70ms/step - loss: 0.0322 - acc: 0.9885 - val_loss: 0.0479 - val_acc: 0.9833\n",
            "\n",
            "Epoch 00100: val_acc did not improve from 0.98663\n",
            "Epoch 101/200\n",
            "409/409 [==============================] - 28s 69ms/step - loss: 0.0348 - acc: 0.9870 - val_loss: 0.0412 - val_acc: 0.9839\n",
            "\n",
            "Epoch 00101: val_acc did not improve from 0.98663\n",
            "Epoch 102/200\n",
            "409/409 [==============================] - 29s 70ms/step - loss: 0.0333 - acc: 0.9877 - val_loss: 0.0476 - val_acc: 0.9837\n",
            "\n",
            "Epoch 00102: val_acc did not improve from 0.98663\n",
            "Epoch 103/200\n",
            "409/409 [==============================] - 28s 69ms/step - loss: 0.0314 - acc: 0.9887 - val_loss: 0.0419 - val_acc: 0.9838\n",
            "\n",
            "Epoch 00103: val_acc did not improve from 0.98663\n",
            "Epoch 104/200\n",
            "409/409 [==============================] - 29s 70ms/step - loss: 0.0324 - acc: 0.9883 - val_loss: 0.0395 - val_acc: 0.9852\n",
            "\n",
            "Epoch 00104: val_acc did not improve from 0.98663\n",
            "Epoch 105/200\n",
            "409/409 [==============================] - 28s 68ms/step - loss: 0.0308 - acc: 0.9892 - val_loss: 0.0426 - val_acc: 0.9844\n",
            "\n",
            "Epoch 00105: val_acc did not improve from 0.98663\n",
            "Epoch 106/200\n",
            "409/409 [==============================] - 28s 69ms/step - loss: 0.0317 - acc: 0.9883 - val_loss: 0.0459 - val_acc: 0.9821\n",
            "\n",
            "Epoch 00106: val_acc did not improve from 0.98663\n",
            "Epoch 107/200\n",
            "409/409 [==============================] - 29s 70ms/step - loss: 0.0327 - acc: 0.9882 - val_loss: 0.0469 - val_acc: 0.9818\n",
            "\n",
            "Epoch 00107: val_acc did not improve from 0.98663\n",
            "Epoch 108/200\n",
            "409/409 [==============================] - 28s 69ms/step - loss: 0.0326 - acc: 0.9888 - val_loss: 0.0479 - val_acc: 0.9828\n",
            "\n",
            "Epoch 00108: val_acc did not improve from 0.98663\n",
            "Epoch 109/200\n",
            "409/409 [==============================] - 29s 70ms/step - loss: 0.0312 - acc: 0.9893 - val_loss: 0.0419 - val_acc: 0.9855\n",
            "\n",
            "Epoch 00109: val_acc did not improve from 0.98663\n",
            "Epoch 110/200\n",
            "409/409 [==============================] - 28s 69ms/step - loss: 0.0312 - acc: 0.9885 - val_loss: 0.0420 - val_acc: 0.9860\n",
            "\n",
            "Epoch 00110: val_acc did not improve from 0.98663\n",
            "Epoch 111/200\n",
            "409/409 [==============================] - 29s 70ms/step - loss: 0.0302 - acc: 0.9892 - val_loss: 0.0406 - val_acc: 0.9855\n",
            "\n",
            "Epoch 00111: val_acc did not improve from 0.98663\n",
            "Epoch 112/200\n",
            "131/409 [========>.....................] - ETA: 15s - loss: 0.0327 - acc: 0.9883"
          ],
          "name": "stdout"
        },
        {
          "output_type": "error",
          "ename": "KeyboardInterrupt",
          "evalue": "ignored",
          "traceback": [
            "\u001b[0;31m---------------------------------------------------------------------------\u001b[0m",
            "\u001b[0;31mKeyboardInterrupt\u001b[0m                         Traceback (most recent call last)",
            "\u001b[0;32m<ipython-input-25-30ad56e88361>\u001b[0m in \u001b[0;36m<module>\u001b[0;34m()\u001b[0m\n\u001b[1;32m      4\u001b[0m \u001b[0;34m\u001b[0m\u001b[0m\n\u001b[1;32m      5\u001b[0m \u001b[0;31m# Train model\u001b[0m\u001b[0;34m\u001b[0m\u001b[0;34m\u001b[0m\u001b[0;34m\u001b[0m\u001b[0m\n\u001b[0;32m----> 6\u001b[0;31m \u001b[0mmodel\u001b[0m \u001b[0;34m=\u001b[0m \u001b[0mfitModel\u001b[0m\u001b[0;34m(\u001b[0m\u001b[0mmodel\u001b[0m\u001b[0;34m,\u001b[0m \u001b[0mcpoint\u001b[0m\u001b[0;34m=\u001b[0m\u001b[0;32mTrue\u001b[0m\u001b[0;34m)\u001b[0m\u001b[0;34m\u001b[0m\u001b[0;34m\u001b[0m\u001b[0m\n\u001b[0m",
            "\u001b[0;32m<ipython-input-22-84eb8065ca72>\u001b[0m in \u001b[0;36mfitModel\u001b[0;34m(model, cpoint)\u001b[0m\n\u001b[1;32m     17\u001b[0m                                      \u001b[0mvalidation_data\u001b[0m\u001b[0;34m=\u001b[0m\u001b[0mval_generator\u001b[0m\u001b[0;34m,\u001b[0m\u001b[0;34m\u001b[0m\u001b[0;34m\u001b[0m\u001b[0m\n\u001b[1;32m     18\u001b[0m                                      \u001b[0mvalidation_steps\u001b[0m\u001b[0;34m=\u001b[0m\u001b[0mint\u001b[0m\u001b[0;34m(\u001b[0m\u001b[0mX_train\u001b[0m\u001b[0;34m.\u001b[0m\u001b[0mshape\u001b[0m\u001b[0;34m[\u001b[0m\u001b[0;36m0\u001b[0m\u001b[0;34m]\u001b[0m \u001b[0;34m//\u001b[0m \u001b[0mbatch_size\u001b[0m \u001b[0;34m*\u001b[0m \u001b[0;36m0.4\u001b[0m\u001b[0;34m)\u001b[0m\u001b[0;34m,\u001b[0m\u001b[0;34m\u001b[0m\u001b[0;34m\u001b[0m\u001b[0m\n\u001b[0;32m---> 19\u001b[0;31m                                      callbacks=cb))\n\u001b[0m\u001b[1;32m     20\u001b[0m   \u001b[0;32mreturn\u001b[0m \u001b[0mmodel\u001b[0m\u001b[0;34m\u001b[0m\u001b[0;34m\u001b[0m\u001b[0m\n",
            "\u001b[0;32m/usr/local/lib/python3.6/dist-packages/keras/legacy/interfaces.py\u001b[0m in \u001b[0;36mwrapper\u001b[0;34m(*args, **kwargs)\u001b[0m\n\u001b[1;32m     89\u001b[0m                 warnings.warn('Update your `' + object_name + '` call to the ' +\n\u001b[1;32m     90\u001b[0m                               'Keras 2 API: ' + signature, stacklevel=2)\n\u001b[0;32m---> 91\u001b[0;31m             \u001b[0;32mreturn\u001b[0m \u001b[0mfunc\u001b[0m\u001b[0;34m(\u001b[0m\u001b[0;34m*\u001b[0m\u001b[0margs\u001b[0m\u001b[0;34m,\u001b[0m \u001b[0;34m**\u001b[0m\u001b[0mkwargs\u001b[0m\u001b[0;34m)\u001b[0m\u001b[0;34m\u001b[0m\u001b[0;34m\u001b[0m\u001b[0m\n\u001b[0m\u001b[1;32m     92\u001b[0m         \u001b[0mwrapper\u001b[0m\u001b[0;34m.\u001b[0m\u001b[0m_original_function\u001b[0m \u001b[0;34m=\u001b[0m \u001b[0mfunc\u001b[0m\u001b[0;34m\u001b[0m\u001b[0;34m\u001b[0m\u001b[0m\n\u001b[1;32m     93\u001b[0m         \u001b[0;32mreturn\u001b[0m \u001b[0mwrapper\u001b[0m\u001b[0;34m\u001b[0m\u001b[0;34m\u001b[0m\u001b[0m\n",
            "\u001b[0;32m/usr/local/lib/python3.6/dist-packages/keras/engine/training.py\u001b[0m in \u001b[0;36mfit_generator\u001b[0;34m(self, generator, steps_per_epoch, epochs, verbose, callbacks, validation_data, validation_steps, class_weight, max_queue_size, workers, use_multiprocessing, shuffle, initial_epoch)\u001b[0m\n\u001b[1;32m   1416\u001b[0m             \u001b[0muse_multiprocessing\u001b[0m\u001b[0;34m=\u001b[0m\u001b[0muse_multiprocessing\u001b[0m\u001b[0;34m,\u001b[0m\u001b[0;34m\u001b[0m\u001b[0;34m\u001b[0m\u001b[0m\n\u001b[1;32m   1417\u001b[0m             \u001b[0mshuffle\u001b[0m\u001b[0;34m=\u001b[0m\u001b[0mshuffle\u001b[0m\u001b[0;34m,\u001b[0m\u001b[0;34m\u001b[0m\u001b[0;34m\u001b[0m\u001b[0m\n\u001b[0;32m-> 1418\u001b[0;31m             initial_epoch=initial_epoch)\n\u001b[0m\u001b[1;32m   1419\u001b[0m \u001b[0;34m\u001b[0m\u001b[0m\n\u001b[1;32m   1420\u001b[0m     \u001b[0;34m@\u001b[0m\u001b[0minterfaces\u001b[0m\u001b[0;34m.\u001b[0m\u001b[0mlegacy_generator_methods_support\u001b[0m\u001b[0;34m\u001b[0m\u001b[0;34m\u001b[0m\u001b[0m\n",
            "\u001b[0;32m/usr/local/lib/python3.6/dist-packages/keras/engine/training_generator.py\u001b[0m in \u001b[0;36mfit_generator\u001b[0;34m(model, generator, steps_per_epoch, epochs, verbose, callbacks, validation_data, validation_steps, class_weight, max_queue_size, workers, use_multiprocessing, shuffle, initial_epoch)\u001b[0m\n\u001b[1;32m    215\u001b[0m                 outs = model.train_on_batch(x, y,\n\u001b[1;32m    216\u001b[0m                                             \u001b[0msample_weight\u001b[0m\u001b[0;34m=\u001b[0m\u001b[0msample_weight\u001b[0m\u001b[0;34m,\u001b[0m\u001b[0;34m\u001b[0m\u001b[0;34m\u001b[0m\u001b[0m\n\u001b[0;32m--> 217\u001b[0;31m                                             class_weight=class_weight)\n\u001b[0m\u001b[1;32m    218\u001b[0m \u001b[0;34m\u001b[0m\u001b[0m\n\u001b[1;32m    219\u001b[0m                 \u001b[0mouts\u001b[0m \u001b[0;34m=\u001b[0m \u001b[0mto_list\u001b[0m\u001b[0;34m(\u001b[0m\u001b[0mouts\u001b[0m\u001b[0;34m)\u001b[0m\u001b[0;34m\u001b[0m\u001b[0;34m\u001b[0m\u001b[0m\n",
            "\u001b[0;32m/usr/local/lib/python3.6/dist-packages/keras/engine/training.py\u001b[0m in \u001b[0;36mtrain_on_batch\u001b[0;34m(self, x, y, sample_weight, class_weight)\u001b[0m\n\u001b[1;32m   1215\u001b[0m             \u001b[0mins\u001b[0m \u001b[0;34m=\u001b[0m \u001b[0mx\u001b[0m \u001b[0;34m+\u001b[0m \u001b[0my\u001b[0m \u001b[0;34m+\u001b[0m \u001b[0msample_weights\u001b[0m\u001b[0;34m\u001b[0m\u001b[0;34m\u001b[0m\u001b[0m\n\u001b[1;32m   1216\u001b[0m         \u001b[0mself\u001b[0m\u001b[0;34m.\u001b[0m\u001b[0m_make_train_function\u001b[0m\u001b[0;34m(\u001b[0m\u001b[0;34m)\u001b[0m\u001b[0;34m\u001b[0m\u001b[0;34m\u001b[0m\u001b[0m\n\u001b[0;32m-> 1217\u001b[0;31m         \u001b[0moutputs\u001b[0m \u001b[0;34m=\u001b[0m \u001b[0mself\u001b[0m\u001b[0;34m.\u001b[0m\u001b[0mtrain_function\u001b[0m\u001b[0;34m(\u001b[0m\u001b[0mins\u001b[0m\u001b[0;34m)\u001b[0m\u001b[0;34m\u001b[0m\u001b[0;34m\u001b[0m\u001b[0m\n\u001b[0m\u001b[1;32m   1218\u001b[0m         \u001b[0;32mreturn\u001b[0m \u001b[0munpack_singleton\u001b[0m\u001b[0;34m(\u001b[0m\u001b[0moutputs\u001b[0m\u001b[0;34m)\u001b[0m\u001b[0;34m\u001b[0m\u001b[0;34m\u001b[0m\u001b[0m\n\u001b[1;32m   1219\u001b[0m \u001b[0;34m\u001b[0m\u001b[0m\n",
            "\u001b[0;32m/usr/local/lib/python3.6/dist-packages/keras/backend/tensorflow_backend.py\u001b[0m in \u001b[0;36m__call__\u001b[0;34m(self, inputs)\u001b[0m\n\u001b[1;32m   2713\u001b[0m                 \u001b[0;32mreturn\u001b[0m \u001b[0mself\u001b[0m\u001b[0;34m.\u001b[0m\u001b[0m_legacy_call\u001b[0m\u001b[0;34m(\u001b[0m\u001b[0minputs\u001b[0m\u001b[0;34m)\u001b[0m\u001b[0;34m\u001b[0m\u001b[0;34m\u001b[0m\u001b[0m\n\u001b[1;32m   2714\u001b[0m \u001b[0;34m\u001b[0m\u001b[0m\n\u001b[0;32m-> 2715\u001b[0;31m             \u001b[0;32mreturn\u001b[0m \u001b[0mself\u001b[0m\u001b[0;34m.\u001b[0m\u001b[0m_call\u001b[0m\u001b[0;34m(\u001b[0m\u001b[0minputs\u001b[0m\u001b[0;34m)\u001b[0m\u001b[0;34m\u001b[0m\u001b[0;34m\u001b[0m\u001b[0m\n\u001b[0m\u001b[1;32m   2716\u001b[0m         \u001b[0;32melse\u001b[0m\u001b[0;34m:\u001b[0m\u001b[0;34m\u001b[0m\u001b[0;34m\u001b[0m\u001b[0m\n\u001b[1;32m   2717\u001b[0m             \u001b[0;32mif\u001b[0m \u001b[0mpy_any\u001b[0m\u001b[0;34m(\u001b[0m\u001b[0mis_tensor\u001b[0m\u001b[0;34m(\u001b[0m\u001b[0mx\u001b[0m\u001b[0;34m)\u001b[0m \u001b[0;32mfor\u001b[0m \u001b[0mx\u001b[0m \u001b[0;32min\u001b[0m \u001b[0minputs\u001b[0m\u001b[0;34m)\u001b[0m\u001b[0;34m:\u001b[0m\u001b[0;34m\u001b[0m\u001b[0;34m\u001b[0m\u001b[0m\n",
            "\u001b[0;32m/usr/local/lib/python3.6/dist-packages/keras/backend/tensorflow_backend.py\u001b[0m in \u001b[0;36m_call\u001b[0;34m(self, inputs)\u001b[0m\n\u001b[1;32m   2673\u001b[0m             \u001b[0mfetched\u001b[0m \u001b[0;34m=\u001b[0m \u001b[0mself\u001b[0m\u001b[0;34m.\u001b[0m\u001b[0m_callable_fn\u001b[0m\u001b[0;34m(\u001b[0m\u001b[0;34m*\u001b[0m\u001b[0marray_vals\u001b[0m\u001b[0;34m,\u001b[0m \u001b[0mrun_metadata\u001b[0m\u001b[0;34m=\u001b[0m\u001b[0mself\u001b[0m\u001b[0;34m.\u001b[0m\u001b[0mrun_metadata\u001b[0m\u001b[0;34m)\u001b[0m\u001b[0;34m\u001b[0m\u001b[0;34m\u001b[0m\u001b[0m\n\u001b[1;32m   2674\u001b[0m         \u001b[0;32melse\u001b[0m\u001b[0;34m:\u001b[0m\u001b[0;34m\u001b[0m\u001b[0;34m\u001b[0m\u001b[0m\n\u001b[0;32m-> 2675\u001b[0;31m             \u001b[0mfetched\u001b[0m \u001b[0;34m=\u001b[0m \u001b[0mself\u001b[0m\u001b[0;34m.\u001b[0m\u001b[0m_callable_fn\u001b[0m\u001b[0;34m(\u001b[0m\u001b[0;34m*\u001b[0m\u001b[0marray_vals\u001b[0m\u001b[0;34m)\u001b[0m\u001b[0;34m\u001b[0m\u001b[0;34m\u001b[0m\u001b[0m\n\u001b[0m\u001b[1;32m   2676\u001b[0m         \u001b[0;32mreturn\u001b[0m \u001b[0mfetched\u001b[0m\u001b[0;34m[\u001b[0m\u001b[0;34m:\u001b[0m\u001b[0mlen\u001b[0m\u001b[0;34m(\u001b[0m\u001b[0mself\u001b[0m\u001b[0;34m.\u001b[0m\u001b[0moutputs\u001b[0m\u001b[0;34m)\u001b[0m\u001b[0;34m]\u001b[0m\u001b[0;34m\u001b[0m\u001b[0;34m\u001b[0m\u001b[0m\n\u001b[1;32m   2677\u001b[0m \u001b[0;34m\u001b[0m\u001b[0m\n",
            "\u001b[0;32m/usr/local/lib/python3.6/dist-packages/tensorflow/python/client/session.py\u001b[0m in \u001b[0;36m__call__\u001b[0;34m(self, *args, **kwargs)\u001b[0m\n\u001b[1;32m   1437\u001b[0m           ret = tf_session.TF_SessionRunCallable(\n\u001b[1;32m   1438\u001b[0m               \u001b[0mself\u001b[0m\u001b[0;34m.\u001b[0m\u001b[0m_session\u001b[0m\u001b[0;34m.\u001b[0m\u001b[0m_session\u001b[0m\u001b[0;34m,\u001b[0m \u001b[0mself\u001b[0m\u001b[0;34m.\u001b[0m\u001b[0m_handle\u001b[0m\u001b[0;34m,\u001b[0m \u001b[0margs\u001b[0m\u001b[0;34m,\u001b[0m \u001b[0mstatus\u001b[0m\u001b[0;34m,\u001b[0m\u001b[0;34m\u001b[0m\u001b[0;34m\u001b[0m\u001b[0m\n\u001b[0;32m-> 1439\u001b[0;31m               run_metadata_ptr)\n\u001b[0m\u001b[1;32m   1440\u001b[0m         \u001b[0;32mif\u001b[0m \u001b[0mrun_metadata\u001b[0m\u001b[0;34m:\u001b[0m\u001b[0;34m\u001b[0m\u001b[0;34m\u001b[0m\u001b[0m\n\u001b[1;32m   1441\u001b[0m           \u001b[0mproto_data\u001b[0m \u001b[0;34m=\u001b[0m \u001b[0mtf_session\u001b[0m\u001b[0;34m.\u001b[0m\u001b[0mTF_GetBuffer\u001b[0m\u001b[0;34m(\u001b[0m\u001b[0mrun_metadata_ptr\u001b[0m\u001b[0;34m)\u001b[0m\u001b[0;34m\u001b[0m\u001b[0;34m\u001b[0m\u001b[0m\n",
            "\u001b[0;31mKeyboardInterrupt\u001b[0m: "
          ]
        }
      ]
    },
    {
      "metadata": {
        "id": "EkRlkwyXcVD1",
        "colab_type": "text"
      },
      "cell_type": "markdown",
      "source": [
        "***Making predictions and submission***"
      ]
    },
    {
      "metadata": {
        "id": "pQenKDq8csLC",
        "colab_type": "code",
        "colab": {}
      },
      "cell_type": "code",
      "source": [
        "model = load_model(\"/content/drive/My Drive/ML/Kaggle/5. Aerial Cactus Identification/vgg16.h5\")"
      ],
      "execution_count": 0,
      "outputs": []
    },
    {
      "metadata": {
        "id": "3S7dWNxYHBJ1",
        "colab_type": "code",
        "colab": {}
      },
      "cell_type": "code",
      "source": [
        "pred = model.predict(X_test).reshape(-1)"
      ],
      "execution_count": 0,
      "outputs": []
    },
    {
      "metadata": {
        "id": "X_V5_7vYc0xk",
        "colab_type": "code",
        "colab": {}
      },
      "cell_type": "code",
      "source": [
        "submission[\"has_cactus\"] = pd.Series(pred, index=None)"
      ],
      "execution_count": 0,
      "outputs": []
    },
    {
      "metadata": {
        "id": "RWoV9O_kdpdL",
        "colab_type": "code",
        "colab": {}
      },
      "cell_type": "code",
      "source": [
        "submission.to_csv(\"/content/drive/My Drive/ML/Kaggle/5. Aerial Cactus Identification/vgg16_submission.csv\", index=False)"
      ],
      "execution_count": 0,
      "outputs": []
    }
  ]
}